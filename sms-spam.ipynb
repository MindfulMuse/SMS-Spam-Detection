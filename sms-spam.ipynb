
  {
   "cell_type": "code",
   "execution_count": 1,
   "id": "178ec894",
   "metadata": {},
   "outputs": [
    {
     "name": "stdout",
     "output_type": "stream",
     "text": [
      "Collecting wordcloud"
     ]
    },
    {
     "name": "stderr",
     "output_type": "stream",
     "text": [
      "WARNING: Ignoring invalid distribution ~ip (C:\\Users\\Sadhika\\AppData\\Local\\Programs\\Python\\Python311\\Lib\\site-packages)\n",
      "WARNING: Ignoring invalid distribution ~ip (C:\\Users\\Sadhika\\AppData\\Local\\Programs\\Python\\Python311\\Lib\\site-packages)\n",
      "WARNING: Ignoring invalid distribution ~ip (C:\\Users\\Sadhika\\AppData\\Local\\Programs\\Python\\Python311\\Lib\\site-packages)\n"
     ]
    },
    {
     "name": "stdout",
     "output_type": "stream",
     "text": [
      "\n",
      "  Downloading wordcloud-1.9.4-cp311-cp311-win_amd64.whl.metadata (3.5 kB)\n",
      "Requirement already satisfied: numpy>=1.6.1 in c:\\users\\sadhika\\appdata\\local\\programs\\python\\python311\\lib\\site-packages (from wordcloud) (2.0.1)\n",
      "Requirement already satisfied: pillow in c:\\users\\sadhika\\appdata\\local\\programs\\python\\python311\\lib\\site-packages (from wordcloud) (11.0.0)\n",
      "Requirement already satisfied: matplotlib in c:\\users\\sadhika\\appdata\\local\\programs\\python\\python311\\lib\\site-packages (from wordcloud) (3.9.2)\n",
      "Requirement already satisfied: contourpy>=1.0.1 in c:\\users\\sadhika\\appdata\\local\\programs\\python\\python311\\lib\\site-packages (from matplotlib->wordcloud) (1.3.0)\n",
      "Requirement already satisfied: cycler>=0.10 in c:\\users\\sadhika\\appdata\\local\\programs\\python\\python311\\lib\\site-packages (from matplotlib->wordcloud) (0.12.1)\n",
      "Requirement already satisfied: fonttools>=4.22.0 in c:\\users\\sadhika\\appdata\\local\\programs\\python\\python311\\lib\\site-packages (from matplotlib->wordcloud) (4.54.1)\n",
      "Requirement already satisfied: kiwisolver>=1.3.1 in c:\\users\\sadhika\\appdata\\local\\programs\\python\\python311\\lib\\site-packages (from matplotlib->wordcloud) (1.4.7)\n",
      "Requirement already satisfied: packaging>=20.0 in c:\\users\\sadhika\\appdata\\local\\programs\\python\\python311\\lib\\site-packages (from matplotlib->wordcloud) (23.0)\n",
      "Requirement already satisfied: pyparsing>=2.3.1 in c:\\users\\sadhika\\appdata\\local\\programs\\python\\python311\\lib\\site-packages (from matplotlib->wordcloud) (3.2.0)\n",
      "Requirement already satisfied: python-dateutil>=2.7 in c:\\users\\sadhika\\appdata\\local\\programs\\python\\python311\\lib\\site-packages (from matplotlib->wordcloud) (2.9.0.post0)\n",
      "Requirement already satisfied: six>=1.5 in c:\\users\\sadhika\\appdata\\local\\programs\\python\\python311\\lib\\site-packages (from python-dateutil>=2.7->matplotlib->wordcloud) (1.16.0)\n",
      "Downloading wordcloud-1.9.4-cp311-cp311-win_amd64.whl (299 kB)\n",
      "Installing collected packages: wordcloud\n",
      "Successfully installed wordcloud-1.9.4\n"
     ]
    }
   ],
   "source": [
    "!pip install wordcloud\n"
   ]
  },
  {
   "cell_type": "code",
   "execution_count": 13,
   "id": "7a6deec3",
   "metadata": {},
   "outputs": [],
   "source": [
    "import numpy as np\n",
    "import pandas as pd\n",
    "\n",
    "from sklearn.preprocessing import LabelEncoder\n",
    "\n",
    "import matplotlib.pyplot as plt\n",
    "\n",
    "import nltk\n",
    "\n",
    "import seaborn as sns\n",
    "\n",
    "from nltk.corpus import stopwords\n",
    "\n",
    "import string\n",
    "\n",
    "from nltk.stem import PorterStemmer\n",
    "\n",
    "from wordcloud import WordCloud\n",
    "\n",
    "from collections import Counter\n",
    "\n",
    "from sklearn.feature_extraction.text import CountVectorizer, TfidfVectorizer\n",
    "\n",
    "from sklearn.model_selection import train_test_split\n",
    "\n",
    "from sklearn.naive_bayes import GaussianNB, MultinomialNB, BernoulliNB\n",
    "\n",
    "from sklearn.metrics import accuracy_score, precision_score, confusion_matrix"
   ]
  },
  {
   "cell_type": "code",
   "execution_count": 14,
   "id": "30e7dc8f",
   "metadata": {},
   "outputs": [
    {
     "data": {
      "text/html": [
       "<div>\n",
       "<style scoped>\n",
       "    .dataframe tbody tr th:only-of-type {\n",
       "        vertical-align: middle;\n",
       "    }\n",
       "\n",
       "    .dataframe tbody tr th {\n",
       "        vertical-align: top;\n",
       "    }\n",
       "\n",
       "    .dataframe thead th {\n",
       "        text-align: right;\n",
       "    }\n",
       "</style>\n",
       "<table border=\"1\" class=\"dataframe\">\n",
       "  <thead>\n",
       "    <tr style=\"text-align: right;\">\n",
       "      <th></th>\n",
       "      <th>v1</th>\n",
       "      <th>v2</th>\n",
       "      <th>Unnamed: 2</th>\n",
       "      <th>Unnamed: 3</th>\n",
       "      <th>Unnamed: 4</th>\n",
       "    </tr>\n",
       "  </thead>\n",
       "  <tbody>\n",
       "    <tr>\n",
       "      <th>0</th>\n",
       "      <td>ham</td>\n",
       "      <td>Go until jurong point, crazy.. Available only ...</td>\n",
       "      <td>NaN</td>\n",
       "      <td>NaN</td>\n",
       "      <td>NaN</td>\n",
       "    </tr>\n",
       "    <tr>\n",
       "      <th>1</th>\n",
       "      <td>ham</td>\n",
       "      <td>Ok lar... Joking wif u oni...</td>\n",
       "      <td>NaN</td>\n",
       "      <td>NaN</td>\n",
       "      <td>NaN</td>\n",
       "    </tr>\n",
       "    <tr>\n",
       "      <th>2</th>\n",
       "      <td>spam</td>\n",
       "      <td>Free entry in 2 a wkly comp to win FA Cup fina...</td>\n",
       "      <td>NaN</td>\n",
       "      <td>NaN</td>\n",
       "      <td>NaN</td>\n",
       "    </tr>\n",
       "    <tr>\n",
       "      <th>3</th>\n",
       "      <td>ham</td>\n",
       "      <td>U dun say so early hor... U c already then say...</td>\n",
       "      <td>NaN</td>\n",
       "      <td>NaN</td>\n",
       "      <td>NaN</td>\n",
       "    </tr>\n",
       "    <tr>\n",
       "      <th>4</th>\n",
       "      <td>ham</td>\n",
       "      <td>Nah I don't think he goes to usf, he lives aro...</td>\n",
       "      <td>NaN</td>\n",
       "      <td>NaN</td>\n",
       "      <td>NaN</td>\n",
       "    </tr>\n",
       "    <tr>\n",
       "      <th>...</th>\n",
       "      <td>...</td>\n",
       "      <td>...</td>\n",
       "      <td>...</td>\n",
       "      <td>...</td>\n",
       "      <td>...</td>\n",
       "    </tr>\n",
       "    <tr>\n",
       "      <th>5567</th>\n",
       "      <td>spam</td>\n",
       "      <td>This is the 2nd time we have tried 2 contact u...</td>\n",
       "      <td>NaN</td>\n",
       "      <td>NaN</td>\n",
       "      <td>NaN</td>\n",
       "    </tr>\n",
       "    <tr>\n",
       "      <th>5568</th>\n",
       "      <td>ham</td>\n",
       "      <td>Will Ì_ b going to esplanade fr home?</td>\n",
       "      <td>NaN</td>\n",
       "      <td>NaN</td>\n",
       "      <td>NaN</td>\n",
       "    </tr>\n",
       "    <tr>\n",
       "      <th>5569</th>\n",
       "      <td>ham</td>\n",
       "      <td>Pity, * was in mood for that. So...any other s...</td>\n",
       "      <td>NaN</td>\n",
       "      <td>NaN</td>\n",
       "      <td>NaN</td>\n",
       "    </tr>\n",
       "    <tr>\n",
       "      <th>5570</th>\n",
       "      <td>ham</td>\n",
       "      <td>The guy did some bitching but I acted like i'd...</td>\n",
       "      <td>NaN</td>\n",
       "      <td>NaN</td>\n",
       "      <td>NaN</td>\n",
       "    </tr>\n",
       "    <tr>\n",
       "      <th>5571</th>\n",
       "      <td>ham</td>\n",
       "      <td>Rofl. Its true to its name</td>\n",
       "      <td>NaN</td>\n",
       "      <td>NaN</td>\n",
       "      <td>NaN</td>\n",
       "    </tr>\n",
       "  </tbody>\n",
       "</table>\n",
       "<p>5572 rows × 5 columns</p>\n",
       "</div>"
      ],
      "text/plain": [
       "        v1                                                 v2 Unnamed: 2  \\\n",
       "0      ham  Go until jurong point, crazy.. Available only ...        NaN   \n",
       "1      ham                      Ok lar... Joking wif u oni...        NaN   \n",
       "2     spam  Free entry in 2 a wkly comp to win FA Cup fina...        NaN   \n",
       "3      ham  U dun say so early hor... U c already then say...        NaN   \n",
       "4      ham  Nah I don't think he goes to usf, he lives aro...        NaN   \n",
       "...    ...                                                ...        ...   \n",
       "5567  spam  This is the 2nd time we have tried 2 contact u...        NaN   \n",
       "5568   ham              Will Ì_ b going to esplanade fr home?        NaN   \n",
       "5569   ham  Pity, * was in mood for that. So...any other s...        NaN   \n",
       "5570   ham  The guy did some bitching but I acted like i'd...        NaN   \n",
       "5571   ham                         Rofl. Its true to its name        NaN   \n",
       "\n",
       "     Unnamed: 3 Unnamed: 4  \n",
       "0           NaN        NaN  \n",
       "1           NaN        NaN  \n",
       "2           NaN        NaN  \n",
       "3           NaN        NaN  \n",
       "4           NaN        NaN  \n",
       "...         ...        ...  \n",
       "5567        NaN        NaN  \n",
       "5568        NaN        NaN  \n",
       "5569        NaN        NaN  \n",
       "5570        NaN        NaN  \n",
       "5571        NaN        NaN  \n",
       "\n",
       "[5572 rows x 5 columns]"
      ]
     },
     "execution_count": 14,
     "metadata": {},
     "output_type": "execute_result"
    }
   ],
   "source": [
    "#reading the CSV file\n",
    "x = pd.read_csv(\"spam.csv\", encoding=\"ISO-8859-1\")\n",
    "\n",
    "#displaying the dataframe\n",
    "x"
   ]
  },
  {
   "cell_type": "code",
   "execution_count": 15,
   "id": "78693fdd",
   "metadata": {
    "colab": {
     "base_uri": "https://localhost:8080/"
    },
    "id": "78693fdd",
    "outputId": "3ab31c99-767b-464a-eb10-c25ae42d9eec"
   },
   "outputs": [
    {
     "data": {
      "text/plain": [
       "(5572, 5)"
      ]
     },
     "execution_count": 15,
     "metadata": {},
     "output_type": "execute_result"
    }
   ],
   "source": [
    "#dataset size - 5572 rows x 5 columns\n",
    "x.shape"
   ]
  },
  {
   "cell_type": "markdown",
   "id": "6719610c",
   "metadata": {
    "id": "6719610c"
   },
   "source": [
    "## Data Cleaning"
   ]
  },
  {
   "cell_type": "code",
   "execution_count": 16,
   "id": "226dc4bb",
   "metadata": {
    "colab": {
     "base_uri": "https://localhost:8080/"
    },
    "id": "226dc4bb",
    "outputId": "179f2bef-bb32-4bb0-8d7c-e4e63402679e"
   },
   "outputs": [
    {
     "name": "stdout",
     "output_type": "stream",
     "text": [
      "<class 'pandas.core.frame.DataFrame'>\n",
      "RangeIndex: 5572 entries, 0 to 5571\n",
      "Data columns (total 5 columns):\n",
      " #   Column      Non-Null Count  Dtype \n",
      "---  ------      --------------  ----- \n",
      " 0   v1          5572 non-null   object\n",
      " 1   v2          5572 non-null   object\n",
      " 2   Unnamed: 2  50 non-null     object\n",
      " 3   Unnamed: 3  12 non-null     object\n",
      " 4   Unnamed: 4  6 non-null      object\n",
      "dtypes: object(5)\n",
      "memory usage: 217.8+ KB\n"
     ]
    }
   ],
   "source": [
    "#printing the concise summary of the dataset\n",
    "x.info()"
   ]
  },
  {
   "cell_type": "code",
   "execution_count": 17,
   "id": "1205abf7",
   "metadata": {
    "colab": {
     "base_uri": "https://localhost:8080/",
     "height": 423
    },
    "id": "1205abf7",
    "outputId": "e1e68c4e-9cad-4d88-fe66-1bf8225706b9"
   },
   "outputs": [
    {
     "data": {
      "text/html": [
       "<div>\n",
       "<style scoped>\n",
       "    .dataframe tbody tr th:only-of-type {\n",
       "        vertical-align: middle;\n",
       "    }\n",
       "\n",
       "    .dataframe tbody tr th {\n",
       "        vertical-align: top;\n",
       "    }\n",
       "\n",
       "    .dataframe thead th {\n",
       "        text-align: right;\n",
       "    }\n",
       "</style>\n",
       "<table border=\"1\" class=\"dataframe\">\n",
       "  <thead>\n",
       "    <tr style=\"text-align: right;\">\n",
       "      <th></th>\n",
       "      <th>v1</th>\n",
       "      <th>v2</th>\n",
       "    </tr>\n",
       "  </thead>\n",
       "  <tbody>\n",
       "    <tr>\n",
       "      <th>0</th>\n",
       "      <td>ham</td>\n",
       "      <td>Go until jurong point, crazy.. Available only ...</td>\n",
       "    </tr>\n",
       "    <tr>\n",
       "      <th>1</th>\n",
       "      <td>ham</td>\n",
       "      <td>Ok lar... Joking wif u oni...</td>\n",
       "    </tr>\n",
       "    <tr>\n",
       "      <th>2</th>\n",
       "      <td>spam</td>\n",
       "      <td>Free entry in 2 a wkly comp to win FA Cup fina...</td>\n",
       "    </tr>\n",
       "    <tr>\n",
       "      <th>3</th>\n",
       "      <td>ham</td>\n",
       "      <td>U dun say so early hor... U c already then say...</td>\n",
       "    </tr>\n",
       "    <tr>\n",
       "      <th>4</th>\n",
       "      <td>ham</td>\n",
       "      <td>Nah I don't think he goes to usf, he lives aro...</td>\n",
       "    </tr>\n",
       "    <tr>\n",
       "      <th>...</th>\n",
       "      <td>...</td>\n",
       "      <td>...</td>\n",
       "    </tr>\n",
       "    <tr>\n",
       "      <th>5567</th>\n",
       "      <td>spam</td>\n",
       "      <td>This is the 2nd time we have tried 2 contact u...</td>\n",
       "    </tr>\n",
       "    <tr>\n",
       "      <th>5568</th>\n",
       "      <td>ham</td>\n",
       "      <td>Will Ì_ b going to esplanade fr home?</td>\n",
       "    </tr>\n",
       "    <tr>\n",
       "      <th>5569</th>\n",
       "      <td>ham</td>\n",
       "      <td>Pity, * was in mood for that. So...any other s...</td>\n",
       "    </tr>\n",
       "    <tr>\n",
       "      <th>5570</th>\n",
       "      <td>ham</td>\n",
       "      <td>The guy did some bitching but I acted like i'd...</td>\n",
       "    </tr>\n",
       "    <tr>\n",
       "      <th>5571</th>\n",
       "      <td>ham</td>\n",
       "      <td>Rofl. Its true to its name</td>\n",
       "    </tr>\n",
       "  </tbody>\n",
       "</table>\n",
       "<p>5572 rows × 2 columns</p>\n",
       "</div>"
      ],
      "text/plain": [
       "        v1                                                 v2\n",
       "0      ham  Go until jurong point, crazy.. Available only ...\n",
       "1      ham                      Ok lar... Joking wif u oni...\n",
       "2     spam  Free entry in 2 a wkly comp to win FA Cup fina...\n",
       "3      ham  U dun say so early hor... U c already then say...\n",
       "4      ham  Nah I don't think he goes to usf, he lives aro...\n",
       "...    ...                                                ...\n",
       "5567  spam  This is the 2nd time we have tried 2 contact u...\n",
       "5568   ham              Will Ì_ b going to esplanade fr home?\n",
       "5569   ham  Pity, * was in mood for that. So...any other s...\n",
       "5570   ham  The guy did some bitching but I acted like i'd...\n",
       "5571   ham                         Rofl. Its true to its name\n",
       "\n",
       "[5572 rows x 2 columns]"
      ]
     },
     "execution_count": 17,
     "metadata": {},
     "output_type": "execute_result"
    }
   ],
   "source": [
    "#column 2, 3, 4 have majority missing values, so it is better to drop them.\n",
    "x.drop(columns=['Unnamed: 2', 'Unnamed: 3', 'Unnamed: 4'], inplace = True)\n",
    "\n",
    "#displaying the edited dataframe\n",
    "x"
   ]
  },
  {
   "cell_type": "code",
   "execution_count": 18,
   "id": "7a5f0034",
   "metadata": {
    "colab": {
     "base_uri": "https://localhost:8080/",
     "height": 423
    },
    "id": "7a5f0034",
    "outputId": "46dbf186-f35e-4e80-f636-245958b733db"
   },
   "outputs": [
    {
     "data": {
      "text/html": [
       "<div>\n",
       "<style scoped>\n",
       "    .dataframe tbody tr th:only-of-type {\n",
       "        vertical-align: middle;\n",
       "    }\n",
       "\n",
       "    .dataframe tbody tr th {\n",
       "        vertical-align: top;\n",
       "    }\n",
       "\n",
       "    .dataframe thead th {\n",
       "        text-align: right;\n",
       "    }\n",
       "</style>\n",
       "<table border=\"1\" class=\"dataframe\">\n",
       "  <thead>\n",
       "    <tr style=\"text-align: right;\">\n",
       "      <th></th>\n",
       "      <th>result</th>\n",
       "      <th>input</th>\n",
       "    </tr>\n",
       "  </thead>\n",
       "  <tbody>\n",
       "    <tr>\n",
       "      <th>0</th>\n",
       "      <td>ham</td>\n",
       "      <td>Go until jurong point, crazy.. Available only ...</td>\n",
       "    </tr>\n",
       "    <tr>\n",
       "      <th>1</th>\n",
       "      <td>ham</td>\n",
       "      <td>Ok lar... Joking wif u oni...</td>\n",
       "    </tr>\n",
       "    <tr>\n",
       "      <th>2</th>\n",
       "      <td>spam</td>\n",
       "      <td>Free entry in 2 a wkly comp to win FA Cup fina...</td>\n",
       "    </tr>\n",
       "    <tr>\n",
       "      <th>3</th>\n",
       "      <td>ham</td>\n",
       "      <td>U dun say so early hor... U c already then say...</td>\n",
       "    </tr>\n",
       "    <tr>\n",
       "      <th>4</th>\n",
       "      <td>ham</td>\n",
       "      <td>Nah I don't think he goes to usf, he lives aro...</td>\n",
       "    </tr>\n",
       "    <tr>\n",
       "      <th>...</th>\n",
       "      <td>...</td>\n",
       "      <td>...</td>\n",
       "    </tr>\n",
       "    <tr>\n",
       "      <th>5567</th>\n",
       "      <td>spam</td>\n",
       "      <td>This is the 2nd time we have tried 2 contact u...</td>\n",
       "    </tr>\n",
       "    <tr>\n",
       "      <th>5568</th>\n",
       "      <td>ham</td>\n",
       "      <td>Will Ì_ b going to esplanade fr home?</td>\n",
       "    </tr>\n",
       "    <tr>\n",
       "      <th>5569</th>\n",
       "      <td>ham</td>\n",
       "      <td>Pity, * was in mood for that. So...any other s...</td>\n",
       "    </tr>\n",
       "    <tr>\n",
       "      <th>5570</th>\n",
       "      <td>ham</td>\n",
       "      <td>The guy did some bitching but I acted like i'd...</td>\n",
       "    </tr>\n",
       "    <tr>\n",
       "      <th>5571</th>\n",
       "      <td>ham</td>\n",
       "      <td>Rofl. Its true to its name</td>\n",
       "    </tr>\n",
       "  </tbody>\n",
       "</table>\n",
       "<p>5572 rows × 2 columns</p>\n",
       "</div>"
      ],
      "text/plain": [
       "     result                                              input\n",
       "0       ham  Go until jurong point, crazy.. Available only ...\n",
       "1       ham                      Ok lar... Joking wif u oni...\n",
       "2      spam  Free entry in 2 a wkly comp to win FA Cup fina...\n",
       "3       ham  U dun say so early hor... U c already then say...\n",
       "4       ham  Nah I don't think he goes to usf, he lives aro...\n",
       "...     ...                                                ...\n",
       "5567   spam  This is the 2nd time we have tried 2 contact u...\n",
       "5568    ham              Will Ì_ b going to esplanade fr home?\n",
       "5569    ham  Pity, * was in mood for that. So...any other s...\n",
       "5570    ham  The guy did some bitching but I acted like i'd...\n",
       "5571    ham                         Rofl. Its true to its name\n",
       "\n",
       "[5572 rows x 2 columns]"
      ]
     },
     "execution_count": 18,
     "metadata": {},
     "output_type": "execute_result"
    }
   ],
   "source": [
    "#renaming the column names to a better and meaningful column name\n",
    "x.rename(columns = {'v1':'result', 'v2':'input'}, inplace=True)\n",
    "\n",
    "#displaying the edited dataframe\n",
    "x"
   ]
  },
  {
   "cell_type": "code",
   "execution_count": 19,
   "id": "6a001e3b",
   "metadata": {
    "colab": {
     "base_uri": "https://localhost:8080/",
     "height": 206
    },
    "id": "6a001e3b",
    "outputId": "e0e9b7d4-ffd8-4001-b490-c2a3a85c7562"
   },
   "outputs": [
    {
     "data": {
      "text/html": [
       "<div>\n",
       "<style scoped>\n",
       "    .dataframe tbody tr th:only-of-type {\n",
       "        vertical-align: middle;\n",
       "    }\n",
       "\n",
       "    .dataframe tbody tr th {\n",
       "        vertical-align: top;\n",
       "    }\n",
       "\n",
       "    .dataframe thead th {\n",
       "        text-align: right;\n",
       "    }\n",
       "</style>\n",
       "<table border=\"1\" class=\"dataframe\">\n",
       "  <thead>\n",
       "    <tr style=\"text-align: right;\">\n",
       "      <th></th>\n",
       "      <th>result</th>\n",
       "      <th>input</th>\n",
       "    </tr>\n",
       "  </thead>\n",
       "  <tbody>\n",
       "    <tr>\n",
       "      <th>0</th>\n",
       "      <td>0</td>\n",
       "      <td>Go until jurong point, crazy.. Available only ...</td>\n",
       "    </tr>\n",
       "    <tr>\n",
       "      <th>1</th>\n",
       "      <td>0</td>\n",
       "      <td>Ok lar... Joking wif u oni...</td>\n",
       "    </tr>\n",
       "    <tr>\n",
       "      <th>2</th>\n",
       "      <td>1</td>\n",
       "      <td>Free entry in 2 a wkly comp to win FA Cup fina...</td>\n",
       "    </tr>\n",
       "    <tr>\n",
       "      <th>3</th>\n",
       "      <td>0</td>\n",
       "      <td>U dun say so early hor... U c already then say...</td>\n",
       "    </tr>\n",
       "    <tr>\n",
       "      <th>4</th>\n",
       "      <td>0</td>\n",
       "      <td>Nah I don't think he goes to usf, he lives aro...</td>\n",
       "    </tr>\n",
       "  </tbody>\n",
       "</table>\n",
       "</div>"
      ],
      "text/plain": [
       "   result                                              input\n",
       "0       0  Go until jurong point, crazy.. Available only ...\n",
       "1       0                      Ok lar... Joking wif u oni...\n",
       "2       1  Free entry in 2 a wkly comp to win FA Cup fina...\n",
       "3       0  U dun say so early hor... U c already then say...\n",
       "4       0  Nah I don't think he goes to usf, he lives aro..."
      ]
     },
     "execution_count": 19,
     "metadata": {},
     "output_type": "execute_result"
    }
   ],
   "source": [
    "encoder = LabelEncoder()\n",
    "x['result'] = encoder.fit_transform(x['result'])\n",
    "\n",
    "#displaying the edited dataframe\n",
    "x.head()"
   ]
  },
  {
   "cell_type": "code",
   "execution_count": 20,
   "id": "215b7f36",
   "metadata": {
    "id": "215b7f36"
   },
   "outputs": [],
   "source": [
    "#so 0 means no SPAM, 1 means SPAM"
   ]
  },
  {
   "cell_type": "code",
   "execution_count": 21,
   "id": "fa8ba1ab",
   "metadata": {
    "colab": {
     "base_uri": "https://localhost:8080/"
    },
    "id": "fa8ba1ab",
    "outputId": "868c5eb2-cfb7-48ab-c7d3-58117b0d5c05"
   },
   "outputs": [
    {
     "data": {
      "text/plain": [
       "result    0\n",
       "input     0\n",
       "dtype: int64"
      ]
     },
     "execution_count": 21,
     "metadata": {},
     "output_type": "execute_result"
    }
   ],
   "source": [
    "#check if there is any NULL value\n",
    "x.isnull().sum()"
   ]
  },
  {
   "cell_type": "code",
   "execution_count": 22,
   "id": "7aad25e1",
   "metadata": {
    "colab": {
     "base_uri": "https://localhost:8080/"
    },
    "id": "7aad25e1",
    "outputId": "9f648247-0a9e-43dc-82d9-50ab76814b40"
   },
   "outputs": [
    {
     "data": {
      "text/plain": [
       "np.int64(403)"
      ]
     },
     "execution_count": 22,
     "metadata": {},
     "output_type": "execute_result"
    }
   ],
   "source": [
    "#check if there is any DUPLICATE values\n",
    "x.duplicated().sum()"
   ]
  },
  {
   "cell_type": "code",
   "execution_count": 23,
   "id": "c1a5defd",
   "metadata": {
    "colab": {
     "base_uri": "https://localhost:8080/",
     "height": 423
    },
    "id": "c1a5defd",
    "outputId": "65d3ba84-d195-4ef9-b5d5-f738d51d41b1"
   },
   "outputs": [
    {
     "data": {
      "text/html": [
       "<div>\n",
       "<style scoped>\n",
       "    .dataframe tbody tr th:only-of-type {\n",
       "        vertical-align: middle;\n",
       "    }\n",
       "\n",
       "    .dataframe tbody tr th {\n",
       "        vertical-align: top;\n",
       "    }\n",
       "\n",
       "    .dataframe thead th {\n",
       "        text-align: right;\n",
       "    }\n",
       "</style>\n",
       "<table border=\"1\" class=\"dataframe\">\n",
       "  <thead>\n",
       "    <tr style=\"text-align: right;\">\n",
       "      <th></th>\n",
       "      <th>result</th>\n",
       "      <th>input</th>\n",
       "    </tr>\n",
       "  </thead>\n",
       "  <tbody>\n",
       "    <tr>\n",
       "      <th>0</th>\n",
       "      <td>0</td>\n",
       "      <td>Go until jurong point, crazy.. Available only ...</td>\n",
       "    </tr>\n",
       "    <tr>\n",
       "      <th>1</th>\n",
       "      <td>0</td>\n",
       "      <td>Ok lar... Joking wif u oni...</td>\n",
       "    </tr>\n",
       "    <tr>\n",
       "      <th>2</th>\n",
       "      <td>1</td>\n",
       "      <td>Free entry in 2 a wkly comp to win FA Cup fina...</td>\n",
       "    </tr>\n",
       "    <tr>\n",
       "      <th>3</th>\n",
       "      <td>0</td>\n",
       "      <td>U dun say so early hor... U c already then say...</td>\n",
       "    </tr>\n",
       "    <tr>\n",
       "      <th>4</th>\n",
       "      <td>0</td>\n",
       "      <td>Nah I don't think he goes to usf, he lives aro...</td>\n",
       "    </tr>\n",
       "    <tr>\n",
       "      <th>...</th>\n",
       "      <td>...</td>\n",
       "      <td>...</td>\n",
       "    </tr>\n",
       "    <tr>\n",
       "      <th>5567</th>\n",
       "      <td>1</td>\n",
       "      <td>This is the 2nd time we have tried 2 contact u...</td>\n",
       "    </tr>\n",
       "    <tr>\n",
       "      <th>5568</th>\n",
       "      <td>0</td>\n",
       "      <td>Will Ì_ b going to esplanade fr home?</td>\n",
       "    </tr>\n",
       "    <tr>\n",
       "      <th>5569</th>\n",
       "      <td>0</td>\n",
       "      <td>Pity, * was in mood for that. So...any other s...</td>\n",
       "    </tr>\n",
       "    <tr>\n",
       "      <th>5570</th>\n",
       "      <td>0</td>\n",
       "      <td>The guy did some bitching but I acted like i'd...</td>\n",
       "    </tr>\n",
       "    <tr>\n",
       "      <th>5571</th>\n",
       "      <td>0</td>\n",
       "      <td>Rofl. Its true to its name</td>\n",
       "    </tr>\n",
       "  </tbody>\n",
       "</table>\n",
       "<p>5169 rows × 2 columns</p>\n",
       "</div>"
      ],
      "text/plain": [
       "      result                                              input\n",
       "0          0  Go until jurong point, crazy.. Available only ...\n",
       "1          0                      Ok lar... Joking wif u oni...\n",
       "2          1  Free entry in 2 a wkly comp to win FA Cup fina...\n",
       "3          0  U dun say so early hor... U c already then say...\n",
       "4          0  Nah I don't think he goes to usf, he lives aro...\n",
       "...      ...                                                ...\n",
       "5567       1  This is the 2nd time we have tried 2 contact u...\n",
       "5568       0              Will Ì_ b going to esplanade fr home?\n",
       "5569       0  Pity, * was in mood for that. So...any other s...\n",
       "5570       0  The guy did some bitching but I acted like i'd...\n",
       "5571       0                         Rofl. Its true to its name\n",
       "\n",
       "[5169 rows x 2 columns]"
      ]
     },
     "execution_count": 23,
     "metadata": {},
     "output_type": "execute_result"
    }
   ],
   "source": [
    "#the dataset has DUPLICATE values, so we will have to REMOVE them\n",
    "x = x.drop_duplicates(keep='first')\n",
    "\n",
    "#displaying the edited dataframe\n",
    "x"
   ]
  },
  {
   "cell_type": "code",
   "execution_count": 24,
   "id": "1a120833",
   "metadata": {
    "id": "1a120833"
   },
   "outputs": [],
   "source": [
    "#rows reduced from 5572 to 5169 after DUPLICATED values have been deleted"
   ]
  },
  {
   "cell_type": "markdown",
   "id": "6d9d382c",
   "metadata": {
    "id": "6d9d382c"
   },
   "source": [
    "## EDA - Exploratory Data Analysis"
   ]
  },
  {
   "cell_type": "code",
   "execution_count": 25,
   "id": "bf35d200",
   "metadata": {
    "id": "bf35d200"
   },
   "outputs": [],
   "source": [
    "#the given problem is a classification problem, so we need to understand the data first by performing EDA.\n",
    "#the dataset has only 2 columns, so less analysis required."
   ]
  },
  {
   "cell_type": "code",
   "execution_count": 26,
   "id": "f1758d20",
   "metadata": {
    "colab": {
     "base_uri": "https://localhost:8080/"
    },
    "id": "f1758d20",
    "outputId": "274a9092-b9bc-4a6f-c7f5-cec747a5c889"
   },
   "outputs": [
    {
     "data": {
      "text/plain": [
       "result\n",
       "0    4516\n",
       "1     653\n",
       "Name: count, dtype: int64"
      ]
     },
     "execution_count": 26,
     "metadata": {},
     "output_type": "execute_result"
    }
   ],
   "source": [
    "#checking the number of SPAM vs not SPAM messages\n",
    "x['result'].value_counts()"
   ]
  },
  {
   "cell_type": "code",
   "execution_count": 27,
   "id": "8f0e68d4",
   "metadata": {
    "id": "8f0e68d4"
   },
   "outputs": [],
   "source": [
    "#out of 5169 datavalues, 653 are SPAM"
   ]
  },
  {
   "cell_type": "code",
   "execution_count": 28,
   "id": "06cd5547",
   "metadata": {
    "colab": {
     "base_uri": "https://localhost:8080/"
    },
    "id": "06cd5547",
    "outputId": "aab9df1b-d0e1-44ac-bc7a-2bab464dd905"
   },
   "outputs": [
    {
     "data": {
      "text/plain": [
       "12.633004449603405"
      ]
     },
     "execution_count": 28,
     "metadata": {},
     "output_type": "execute_result"
    }
   ],
   "source": [
    "653*100.0/5169"
   ]
  },
  {
   "cell_type": "code",
   "execution_count": 29,
   "id": "fde6542b",
   "metadata": {
    "id": "fde6542b"
   },
   "outputs": [],
   "source": [
    "#12.63% is SPAM and 87.37% is not SPAM"
   ]
  },
  {
   "cell_type": "code",
   "execution_count": 30,
   "id": "ea0827b7",
   "metadata": {
    "colab": {
     "base_uri": "https://localhost:8080/",
     "height": 406
    },
    "id": "ea0827b7",
    "outputId": "9e82e8c7-89e8-4326-8e91-b17ae9e61137"
   },
   "outputs": [
    {
     "data": {
      "image/png": "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",
      "text/plain": [
       "<Figure size 640x480 with 1 Axes>"
      ]
     },
     "metadata": {},
     "output_type": "display_data"
    }
   ],
   "source": [
    "#for better representation, we can use PIE CHART to represent it.\n",
    "#PIE CHARTS can be created using matplotlib library\n",
    "\n",
    "plt.pie(x['result'].value_counts(),  labels = ['NOT SPAM', 'SPAM'], autopct = '%0.2f', radius = 0.8)\n",
    "plt.show()"
   ]
  },
  {
   "cell_type": "code",
   "execution_count": 31,
   "id": "d07846e7",
   "metadata": {
    "id": "d07846e7"
   },
   "outputs": [],
   "source": [
    "#hence, highly IMBALANCED DATA"
   ]
  },
  {
   "cell_type": "code",
   "execution_count": 32,
   "id": "d774e6d0",
   "metadata": {
    "id": "d774e6d0"
   },
   "outputs": [],
   "source": [
    "#now we will be analysing the number of alphabets/words/sentences being used in the TEXT\n",
    "#for this, will create 3 new columns: (1) no. of characters (2) no. of words (3) no. of sentences in SMS\n",
    "\n",
    "#using 'nltk' library for this. \n",
    "#Natural Language Toolkit for text processing \n",
    "#(pip install nltk)"
   ]
  },
  {
   "cell_type": "code",
   "execution_count": 33,
   "id": "ffd4ce2b",
   "metadata": {
    "colab": {
     "base_uri": "https://localhost:8080/"
    },
    "id": "ffd4ce2b",
    "outputId": "d4453103-26a3-4f32-bd9c-2b001fc36f2d"
   },
   "outputs": [
    {
     "name": "stderr",
     "output_type": "stream",
     "text": [
      "[nltk_data] Downloading package punkt to\n",
      "[nltk_data]     C:\\Users\\Sadhika\\AppData\\Roaming\\nltk_data...\n",
      "[nltk_data]   Package punkt is already up-to-date!\n"
     ]
    },
    {
     "data": {
      "text/plain": [
       "True"
      ]
     },
     "execution_count": 33,
     "metadata": {},
     "output_type": "execute_result"
    }
   ],
   "source": [
    "#downloading the dependencies \n",
    "#punkt package includes pre-trained models for tokenizing text in many languages\n",
    "\n",
    "nltk.download('punkt')"
   ]
  },
  {
   "cell_type": "code",
   "execution_count": null,
   "id": "e0b0ae5a",
   "metadata": {
    "colab": {
     "base_uri": "https://localhost:8080/"
    },
    "id": "e0b0ae5a",
    "outputId": "96c083c2-d244-4a39-df41-e0b92819682f"
   },
   "outputs": [],
   "source": [
    "#creating a new column with count of characters\n",
    "x['countCharacters'] = x['input'].apply(len)\n",
    "\n",
    "#creating a new column with count of words\n",
    "x['countWords'] = x['input'].apply(lambda i:len(nltk.word_tokenize(i)))\n",
    "#'word_tokenize' function takes a string of text as input and returns a list of words\n",
    "\n",
    "#creating a new column with count of sentences\n",
    "x['countSentences'] = x['input'].apply(lambda i:len(nltk.sent_tokenize(i)))\n",
    "#'sent_tokenize' function takes a string of text as input and returns a list of sentences"
   ]
  },
  {
   "cell_type": "code",
   "execution_count": 35,
   "id": "b2deabf7",
   "metadata": {
    "colab": {
     "base_uri": "https://localhost:8080/",
     "height": 206
    },
    "id": "b2deabf7",
    "outputId": "604524c7-35e5-470f-d30f-0ac90811361a",
    "scrolled": true
   },
   "outputs": [
    {
     "data": {
      "text/html": [
       "<div>\n",
       "<style scoped>\n",
       "    .dataframe tbody tr th:only-of-type {\n",
       "        vertical-align: middle;\n",
       "    }\n",
       "\n",
       "    .dataframe tbody tr th {\n",
       "        vertical-align: top;\n",
       "    }\n",
       "\n",
       "    .dataframe thead th {\n",
       "        text-align: right;\n",
       "    }\n",
       "</style>\n",
       "<table border=\"1\" class=\"dataframe\">\n",
       "  <thead>\n",
       "    <tr style=\"text-align: right;\">\n",
       "      <th></th>\n",
       "      <th>result</th>\n",
       "      <th>input</th>\n",
       "      <th>countCharacters</th>\n",
       "      <th>countWords</th>\n",
       "      <th>countSentences</th>\n",
       "    </tr>\n",
       "  </thead>\n",
       "  <tbody>\n",
       "    <tr>\n",
       "      <th>0</th>\n",
       "      <td>0</td>\n",
       "      <td>Go until jurong point, crazy.. Available only ...</td>\n",
       "      <td>111</td>\n",
       "      <td>24</td>\n",
       "      <td>2</td>\n",
       "    </tr>\n",
       "    <tr>\n",
       "      <th>1</th>\n",
       "      <td>0</td>\n",
       "      <td>Ok lar... Joking wif u oni...</td>\n",
       "      <td>29</td>\n",
       "      <td>8</td>\n",
       "      <td>2</td>\n",
       "    </tr>\n",
       "    <tr>\n",
       "      <th>2</th>\n",
       "      <td>1</td>\n",
       "      <td>Free entry in 2 a wkly comp to win FA Cup fina...</td>\n",
       "      <td>155</td>\n",
       "      <td>37</td>\n",
       "      <td>2</td>\n",
       "    </tr>\n",
       "    <tr>\n",
       "      <th>3</th>\n",
       "      <td>0</td>\n",
       "      <td>U dun say so early hor... U c already then say...</td>\n",
       "      <td>49</td>\n",
       "      <td>13</td>\n",
       "      <td>1</td>\n",
       "    </tr>\n",
       "    <tr>\n",
       "      <th>4</th>\n",
       "      <td>0</td>\n",
       "      <td>Nah I don't think he goes to usf, he lives aro...</td>\n",
       "      <td>61</td>\n",
       "      <td>15</td>\n",
       "      <td>1</td>\n",
       "    </tr>\n",
       "  </tbody>\n",
       "</table>\n",
       "</div>"
      ],
      "text/plain": [
       "   result                                              input  countCharacters  \\\n",
       "0       0  Go until jurong point, crazy.. Available only ...              111   \n",
       "1       0                      Ok lar... Joking wif u oni...               29   \n",
       "2       1  Free entry in 2 a wkly comp to win FA Cup fina...              155   \n",
       "3       0  U dun say so early hor... U c already then say...               49   \n",
       "4       0  Nah I don't think he goes to usf, he lives aro...               61   \n",
       "\n",
       "   countWords  countSentences  \n",
       "0          24               2  \n",
       "1           8               2  \n",
       "2          37               2  \n",
       "3          13               1  \n",
       "4          15               1  "
      ]
     },
     "execution_count": 35,
     "metadata": {},
     "output_type": "execute_result"
    }
   ],
   "source": [
    "#displaying the edited dataframe with the 3 new columns added\n",
    "x.head()"
   ]
  },
  {
   "cell_type": "code",
   "execution_count": 36,
   "id": "e9a255a1",
   "metadata": {
    "colab": {
     "base_uri": "https://localhost:8080/",
     "height": 300
    },
    "id": "e9a255a1",
    "outputId": "4485798e-cde1-4583-a3c5-99dc370fd1d6"
   },
   "outputs": [
    {
     "data": {
      "text/html": [
       "<div>\n",
       "<style scoped>\n",
       "    .dataframe tbody tr th:only-of-type {\n",
       "        vertical-align: middle;\n",
       "    }\n",
       "\n",
       "    .dataframe tbody tr th {\n",
       "        vertical-align: top;\n",
       "    }\n",
       "\n",
       "    .dataframe thead th {\n",
       "        text-align: right;\n",
       "    }\n",
       "</style>\n",
       "<table border=\"1\" class=\"dataframe\">\n",
       "  <thead>\n",
       "    <tr style=\"text-align: right;\">\n",
       "      <th></th>\n",
       "      <th>countCharacters</th>\n",
       "      <th>countWords</th>\n",
       "      <th>countSentences</th>\n",
       "    </tr>\n",
       "  </thead>\n",
       "  <tbody>\n",
       "    <tr>\n",
       "      <th>count</th>\n",
       "      <td>5169.000000</td>\n",
       "      <td>5169.000000</td>\n",
       "      <td>5169.000000</td>\n",
       "    </tr>\n",
       "    <tr>\n",
       "      <th>mean</th>\n",
       "      <td>78.977945</td>\n",
       "      <td>18.455794</td>\n",
       "      <td>1.965564</td>\n",
       "    </tr>\n",
       "    <tr>\n",
       "      <th>std</th>\n",
       "      <td>58.236293</td>\n",
       "      <td>13.324758</td>\n",
       "      <td>1.448541</td>\n",
       "    </tr>\n",
       "    <tr>\n",
       "      <th>min</th>\n",
       "      <td>2.000000</td>\n",
       "      <td>1.000000</td>\n",
       "      <td>1.000000</td>\n",
       "    </tr>\n",
       "    <tr>\n",
       "      <th>25%</th>\n",
       "      <td>36.000000</td>\n",
       "      <td>9.000000</td>\n",
       "      <td>1.000000</td>\n",
       "    </tr>\n",
       "    <tr>\n",
       "      <th>50%</th>\n",
       "      <td>60.000000</td>\n",
       "      <td>15.000000</td>\n",
       "      <td>1.000000</td>\n",
       "    </tr>\n",
       "    <tr>\n",
       "      <th>75%</th>\n",
       "      <td>117.000000</td>\n",
       "      <td>26.000000</td>\n",
       "      <td>2.000000</td>\n",
       "    </tr>\n",
       "    <tr>\n",
       "      <th>max</th>\n",
       "      <td>910.000000</td>\n",
       "      <td>220.000000</td>\n",
       "      <td>38.000000</td>\n",
       "    </tr>\n",
       "  </tbody>\n",
       "</table>\n",
       "</div>"
      ],
      "text/plain": [
       "       countCharacters   countWords  countSentences\n",
       "count      5169.000000  5169.000000     5169.000000\n",
       "mean         78.977945    18.455794        1.965564\n",
       "std          58.236293    13.324758        1.448541\n",
       "min           2.000000     1.000000        1.000000\n",
       "25%          36.000000     9.000000        1.000000\n",
       "50%          60.000000    15.000000        1.000000\n",
       "75%         117.000000    26.000000        2.000000\n",
       "max         910.000000   220.000000       38.000000"
      ]
     },
     "execution_count": 36,
     "metadata": {},
     "output_type": "execute_result"
    }
   ],
   "source": [
    "#extracting the 5 number summary of the 3 new column values\n",
    "x[['countCharacters', 'countWords', 'countSentences']].describe()"
   ]
  },
  {
   "cell_type": "code",
   "execution_count": 37,
   "id": "8bd14494",
   "metadata": {
    "id": "8bd14494"
   },
   "outputs": [],
   "source": [
    "#extracting the same summaries, classified on the basis of SPAM and not SPAM"
   ]
  },
  {
   "cell_type": "code",
   "execution_count": 51,
   "id": "8a1db23a",
   "metadata": {
    "colab": {
     "base_uri": "https://localhost:8080/",
     "height": 300
    },
    "id": "8a1db23a",
    "outputId": "bf0e2cd6-c3da-46e4-c71b-1cd876ce81af"
   },
   "outputs": [
    {
     "data": {
      "text/html": [
       "<div>\n",
       "<style scoped>\n",
       "    .dataframe tbody tr th:only-of-type {\n",
       "        vertical-align: middle;\n",
       "    }\n",
       "\n",
       "    .dataframe tbody tr th {\n",
       "        vertical-align: top;\n",
       "    }\n",
       "\n",
       "    .dataframe thead th {\n",
       "        text-align: right;\n",
       "    }\n",
       "</style>\n",
       "<table border=\"1\" class=\"dataframe\">\n",
       "  <thead>\n",
       "    <tr style=\"text-align: right;\">\n",
       "      <th></th>\n",
       "      <th>countCharacters</th>\n",
       "      <th>countWords</th>\n",
       "      <th>countSentences</th>\n",
       "    </tr>\n",
       "  </thead>\n",
       "  <tbody>\n",
       "    <tr>\n",
       "      <th>count</th>\n",
       "      <td>4516.000000</td>\n",
       "      <td>4516.000000</td>\n",
       "      <td>4516.000000</td>\n",
       "    </tr>\n",
       "    <tr>\n",
       "      <th>mean</th>\n",
       "      <td>70.459256</td>\n",
       "      <td>17.123782</td>\n",
       "      <td>1.820195</td>\n",
       "    </tr>\n",
       "    <tr>\n",
       "      <th>std</th>\n",
       "      <td>56.358207</td>\n",
       "      <td>13.493970</td>\n",
       "      <td>1.383657</td>\n",
       "    </tr>\n",
       "    <tr>\n",
       "      <th>min</th>\n",
       "      <td>2.000000</td>\n",
       "      <td>1.000000</td>\n",
       "      <td>1.000000</td>\n",
       "    </tr>\n",
       "    <tr>\n",
       "      <th>25%</th>\n",
       "      <td>34.000000</td>\n",
       "      <td>8.000000</td>\n",
       "      <td>1.000000</td>\n",
       "    </tr>\n",
       "    <tr>\n",
       "      <th>50%</th>\n",
       "      <td>52.000000</td>\n",
       "      <td>13.000000</td>\n",
       "      <td>1.000000</td>\n",
       "    </tr>\n",
       "    <tr>\n",
       "      <th>75%</th>\n",
       "      <td>90.000000</td>\n",
       "      <td>22.000000</td>\n",
       "      <td>2.000000</td>\n",
       "    </tr>\n",
       "    <tr>\n",
       "      <th>max</th>\n",
       "      <td>910.000000</td>\n",
       "      <td>220.000000</td>\n",
       "      <td>38.000000</td>\n",
       "    </tr>\n",
       "  </tbody>\n",
       "</table>\n",
       "</div>"
      ],
      "text/plain": [
       "       countCharacters   countWords  countSentences\n",
       "count      4516.000000  4516.000000     4516.000000\n",
       "mean         70.459256    17.123782        1.820195\n",
       "std          56.358207    13.493970        1.383657\n",
       "min           2.000000     1.000000        1.000000\n",
       "25%          34.000000     8.000000        1.000000\n",
       "50%          52.000000    13.000000        1.000000\n",
       "75%          90.000000    22.000000        2.000000\n",
       "max         910.000000   220.000000       38.000000"
      ]
     },
     "execution_count": 51,
     "metadata": {},
     "output_type": "execute_result"
    }
   ],
   "source": [
    "#for not SPAM\n",
    "x[x['result'] == 0][['countCharacters', 'countWords', 'countSentences']].describe()"
   ]
  },
  {
   "cell_type": "code",
   "execution_count": 52,
   "id": "415a82ca",
   "metadata": {
    "colab": {
     "base_uri": "https://localhost:8080/",
     "height": 300
    },
    "id": "415a82ca",
    "outputId": "89c51256-c060-467a-c8ee-4d2cd2829d83",
    "scrolled": true
   },
   "outputs": [
    {
     "data": {
      "text/html": [
       "<div>\n",
       "<style scoped>\n",
       "    .dataframe tbody tr th:only-of-type {\n",
       "        vertical-align: middle;\n",
       "    }\n",
       "\n",
       "    .dataframe tbody tr th {\n",
       "        vertical-align: top;\n",
       "    }\n",
       "\n",
       "    .dataframe thead th {\n",
       "        text-align: right;\n",
       "    }\n",
       "</style>\n",
       "<table border=\"1\" class=\"dataframe\">\n",
       "  <thead>\n",
       "    <tr style=\"text-align: right;\">\n",
       "      <th></th>\n",
       "      <th>countCharacters</th>\n",
       "      <th>countWords</th>\n",
       "      <th>countSentences</th>\n",
       "    </tr>\n",
       "  </thead>\n",
       "  <tbody>\n",
       "    <tr>\n",
       "      <th>count</th>\n",
       "      <td>653.000000</td>\n",
       "      <td>653.000000</td>\n",
       "      <td>653.000000</td>\n",
       "    </tr>\n",
       "    <tr>\n",
       "      <th>mean</th>\n",
       "      <td>137.891271</td>\n",
       "      <td>27.667688</td>\n",
       "      <td>2.970904</td>\n",
       "    </tr>\n",
       "    <tr>\n",
       "      <th>std</th>\n",
       "      <td>30.137753</td>\n",
       "      <td>7.008418</td>\n",
       "      <td>1.488425</td>\n",
       "    </tr>\n",
       "    <tr>\n",
       "      <th>min</th>\n",
       "      <td>13.000000</td>\n",
       "      <td>2.000000</td>\n",
       "      <td>1.000000</td>\n",
       "    </tr>\n",
       "    <tr>\n",
       "      <th>25%</th>\n",
       "      <td>132.000000</td>\n",
       "      <td>25.000000</td>\n",
       "      <td>2.000000</td>\n",
       "    </tr>\n",
       "    <tr>\n",
       "      <th>50%</th>\n",
       "      <td>149.000000</td>\n",
       "      <td>29.000000</td>\n",
       "      <td>3.000000</td>\n",
       "    </tr>\n",
       "    <tr>\n",
       "      <th>75%</th>\n",
       "      <td>157.000000</td>\n",
       "      <td>32.000000</td>\n",
       "      <td>4.000000</td>\n",
       "    </tr>\n",
       "    <tr>\n",
       "      <th>max</th>\n",
       "      <td>224.000000</td>\n",
       "      <td>46.000000</td>\n",
       "      <td>9.000000</td>\n",
       "    </tr>\n",
       "  </tbody>\n",
       "</table>\n",
       "</div>"
      ],
      "text/plain": [
       "       countCharacters  countWords  countSentences\n",
       "count       653.000000  653.000000      653.000000\n",
       "mean        137.891271   27.667688        2.970904\n",
       "std          30.137753    7.008418        1.488425\n",
       "min          13.000000    2.000000        1.000000\n",
       "25%         132.000000   25.000000        2.000000\n",
       "50%         149.000000   29.000000        3.000000\n",
       "75%         157.000000   32.000000        4.000000\n",
       "max         224.000000   46.000000        9.000000"
      ]
     },
     "execution_count": 52,
     "metadata": {},
     "output_type": "execute_result"
    }
   ],
   "source": [
    "#for SPAM\n",
    "x[x['result'] == 1][['countCharacters', 'countWords', 'countSentences']].describe()"
   ]
  },
  {
   "cell_type": "code",
   "execution_count": 53,
   "id": "cbff4800",
   "metadata": {
    "colab": {
     "base_uri": "https://localhost:8080/",
     "height": 437
    },
    "id": "cbff4800",
    "outputId": "684e5cbe-0452-4b9a-e677-e64535e204a6"
   },
   "outputs": [
    {
     "data": {
      "text/plain": [
       "<Axes: xlabel='countCharacters', ylabel='Count'>"
      ]
     },
     "execution_count": 53,
     "metadata": {},
     "output_type": "execute_result"
    },
    {
     "data": {
      "image/png": "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",
      "text/plain": [
       "<Figure size 1500x500 with 1 Axes>"
      ]
     },
     "metadata": {},
     "output_type": "display_data"
    }
   ],
   "source": [
    "#for better visualization, we will plot a histogram using 'seaborn'\n",
    "plt.figure(figsize = (15, 5))\n",
    "sns.histplot(x[x['result'] == 0]['countCharacters'], color = \"yellow\")\n",
    "sns.histplot(x[x['result'] == 1]['countCharacters'], color = \"black\")\n",
    "\n",
    "#black -> SPAM, yellow -> not SPAM"
   ]
  },
  {
   "cell_type": "code",
   "execution_count": 54,
   "id": "d4ac0dad",
   "metadata": {
    "colab": {
     "base_uri": "https://localhost:8080/",
     "height": 437
    },
    "id": "d4ac0dad",
    "outputId": "02ca722c-b74c-4a2a-8fe9-4c9d3dd7d131"
   },
   "outputs": [
    {
     "data": {
      "text/plain": [
       "<Axes: xlabel='countWords', ylabel='Count'>"
      ]
     },
     "execution_count": 54,
     "metadata": {},
     "output_type": "execute_result"
    },
    {
     "data": {
      "image/png": "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",
      "text/plain": [
       "<Figure size 1500x500 with 1 Axes>"
      ]
     },
     "metadata": {},
     "output_type": "display_data"
    }
   ],
   "source": [
    "plt.figure(figsize = (15, 5))\n",
    "sns.histplot(x[x['result'] == 0]['countWords'], color = \"yellow\")\n",
    "sns.histplot(x[x['result'] == 1]['countWords'], color = \"black\")\n",
    "\n",
    "#black -> SPAM, yellow -> not SPAM"
   ]
  },
  {
   "cell_type": "code",
   "execution_count": 55,
   "id": "158938fd",
   "metadata": {
    "id": "158938fd"
   },
   "outputs": [],
   "source": [
    "#observation : SPAM messages have more no of characters used, mean is 137.89 for SPAM and 70.45 for not SPAM"
   ]
  },
  {
   "cell_type": "code",
   "execution_count": 56,
   "id": "2b4bb03f",
   "metadata": {
    "colab": {
     "base_uri": "https://localhost:8080/",
     "height": 775
    },
    "id": "2b4bb03f",
    "outputId": "16b52004-4892-493a-af41-2d80d5c2ff0c"
   },
   "outputs": [
    {
     "data": {
      "text/plain": [
       "<seaborn.axisgrid.PairGrid at 0x179cf3db510>"
      ]
     },
     "execution_count": 56,
     "metadata": {},
     "output_type": "execute_result"
    },
    {
     "data": {
      "image/png": "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",
      "text/plain": [
       "<Figure size 808.875x750 with 12 Axes>"
      ]
     },
     "metadata": {},
     "output_type": "display_data"
    }
   ],
   "source": [
    "#finding relationship between the columns\n",
    "sns.pairplot(x, hue='result')"
   ]
  },
  {
   "cell_type": "code",
   "execution_count": 58,
   "id": "d9ade1fe",
   "metadata": {
    "colab": {
     "base_uri": "https://localhost:8080/",
     "height": 229
    },
    "id": "d9ade1fe",
    "outputId": "6cd30f7c-26a2-4d56-8351-11dafe3819e8"
   },
   "outputs": [
    {
     "data": {
      "text/html": [
       "<div>\n",
       "<style scoped>\n",
       "    .dataframe tbody tr th:only-of-type {\n",
       "        vertical-align: middle;\n",
       "    }\n",
       "\n",
       "    .dataframe tbody tr th {\n",
       "        vertical-align: top;\n",
       "    }\n",
       "\n",
       "    .dataframe thead th {\n",
       "        text-align: right;\n",
       "    }\n",
       "</style>\n",
       "<table border=\"1\" class=\"dataframe\">\n",
       "  <thead>\n",
       "    <tr style=\"text-align: right;\">\n",
       "      <th></th>\n",
       "      <th>result</th>\n",
       "      <th>countCharacters</th>\n",
       "      <th>countWords</th>\n",
       "      <th>countSentences</th>\n",
       "    </tr>\n",
       "  </thead>\n",
       "  <tbody>\n",
       "    <tr>\n",
       "      <th>result</th>\n",
       "      <td>1.000000</td>\n",
       "      <td>0.384717</td>\n",
       "      <td>0.262912</td>\n",
       "      <td>0.263939</td>\n",
       "    </tr>\n",
       "    <tr>\n",
       "      <th>countCharacters</th>\n",
       "      <td>0.384717</td>\n",
       "      <td>1.000000</td>\n",
       "      <td>0.965760</td>\n",
       "      <td>0.624139</td>\n",
       "    </tr>\n",
       "    <tr>\n",
       "      <th>countWords</th>\n",
       "      <td>0.262912</td>\n",
       "      <td>0.965760</td>\n",
       "      <td>1.000000</td>\n",
       "      <td>0.679971</td>\n",
       "    </tr>\n",
       "    <tr>\n",
       "      <th>countSentences</th>\n",
       "      <td>0.263939</td>\n",
       "      <td>0.624139</td>\n",
       "      <td>0.679971</td>\n",
       "      <td>1.000000</td>\n",
       "    </tr>\n",
       "  </tbody>\n",
       "</table>\n",
       "</div>"
      ],
      "text/plain": [
       "                   result  countCharacters  countWords  countSentences\n",
       "result           1.000000         0.384717    0.262912        0.263939\n",
       "countCharacters  0.384717         1.000000    0.965760        0.624139\n",
       "countWords       0.262912         0.965760    1.000000        0.679971\n",
       "countSentences   0.263939         0.624139    0.679971        1.000000"
      ]
     },
     "execution_count": 58,
     "metadata": {},
     "output_type": "execute_result"
    }
   ],
   "source": [
    "#find pearson's correlation coefficient\n",
    "numeric_df = x.select_dtypes(include=[float, int])\n",
    "numeric_df.corr()\n"
   ]
  },
  {
   "cell_type": "code",
   "execution_count": 59,
   "id": "bfc6551d",
   "metadata": {
    "colab": {
     "base_uri": "https://localhost:8080/",
     "height": 507
    },
    "id": "bfc6551d",
    "outputId": "c7cd5b83-1da0-499c-a38f-c0248c8ab5f8"
   },
   "outputs": [
    {
     "data": {
      "text/plain": [
       "<Axes: >"
      ]
     },
     "execution_count": 59,
     "metadata": {},
     "output_type": "execute_result"
    },
    {
     "data": {
      "image/png": "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",
      "text/plain": [
       "<Figure size 640x480 with 2 Axes>"
      ]
     },
     "metadata": {},
     "output_type": "display_data"
    }
   ],
   "source": [
    "#converting it into a heatmap\n",
    "sns.heatmap(numeric_df.corr(), annot=True)"
   ]
  },
  {
   "cell_type": "code",
   "execution_count": 60,
   "id": "28ca076e",
   "metadata": {
    "id": "28ca076e"
   },
   "outputs": [],
   "source": [
    "#multi-collinearity in the dataset\n",
    "#all new 3 columns are highly correlated with each other but countCharacters is correlated more with the 'result' than any other column"
   ]
  },
  {
   "cell_type": "markdown",
   "id": "b916c85d",
   "metadata": {
    "id": "b916c85d"
   },
   "source": [
    "## Data Preprocessing"
   ]
  },
  {
   "cell_type": "code",
   "execution_count": 61,
   "id": "78770422",
   "metadata": {
    "id": "78770422"
   },
   "outputs": [],
   "source": [
    "#peforming preprocessing such as tokenization (converting the text into tokens or words), removing special characters,\n",
    "#removing stop words and punctuation and finallying stemming the data.\n",
    "#also, converting to lower case first and then pre-processing the data"
   ]
  },
  {
   "cell_type": "code",
   "execution_count": null,
   "id": "727bd8e8",
   "metadata": {
    "colab": {
     "base_uri": "https://localhost:8080/"
    },
    "id": "727bd8e8",
    "outputId": "7b9c142f-b729-44b6-9e44-40feaa21031e"
   },
   "outputs": [],
   "source": [
    "#downloading the package which contains the stopwords\n",
    "nltk.download('stopwords')"
   ]
  },
  {
   "cell_type": "code",
   "execution_count": 63,
   "id": "fb37349b",
   "metadata": {
    "id": "fb37349b"
   },
   "outputs": [],
   "source": [
    "def transform_text (text):\n",
    "    \n",
    "    #converting to lower case\n",
    "    text = text.lower()\n",
    "    \n",
    "    #tokenization\n",
    "    text = nltk.word_tokenize(text)\n",
    "    \n",
    "    #removing special characters\n",
    "    removedSC = list()\n",
    "    for i in text:\n",
    "        if i.isalnum():\n",
    "            removedSC.append(i)\n",
    "            \n",
    "    #updating the text after removed special characters\n",
    "    text = removedSC[:]\n",
    "    \n",
    "    #removing stop words and punctuation characters\n",
    "    removedSWPC = list()\n",
    "    for i in text:\n",
    "        #stopwords.words('english') is a function of 'nltk', returns list of english stop words\n",
    "        #string.punctuation is a part of 'string' module, containing the ASCII punctuation characters\n",
    "        if i not in stopwords.words('english') and i not in string.punctuation:\n",
    "            removedSWPC.append(i)\n",
    "            \n",
    "    #updating the text after removed stop words and punctuation characters\n",
    "    text = removedSWPC[:]\n",
    "    \n",
    "    #stemming the data using 'PorterStemmer' algorithm.\n",
    "    #nltk module provides this class to use.\n",
    "    ps = PorterStemmer()\n",
    "    stemmed = list()\n",
    "    for i in text:\n",
    "        stemmed.append(ps.stem(i))\n",
    "    \n",
    "    text = stemmed[:]\n",
    "    \n",
    "    return \" \".join(text)"
   ]
  },
  {
   "cell_type": "code",
   "execution_count": 64,
   "id": "6589a86c",
   "metadata": {
    "id": "6589a86c"
   },
   "outputs": [],
   "source": [
    "#function for transforming the text is ready"
   ]
  },
  {
   "cell_type": "code",
   "execution_count": 65,
   "id": "2096abcc",
   "metadata": {
    "colab": {
     "base_uri": "https://localhost:8080/",
     "height": 310
    },
    "id": "2096abcc",
    "outputId": "f2545dda-3cec-4297-8411-738065335a30",
    "scrolled": true
   },
   "outputs": [
    {
     "name": "stderr",
     "output_type": "stream",
     "text": [
      "C:\\Users\\Sadhika\\AppData\\Local\\Temp\\ipykernel_2092\\2432381459.py:2: SettingWithCopyWarning: \n",
      "A value is trying to be set on a copy of a slice from a DataFrame.\n",
      "Try using .loc[row_indexer,col_indexer] = value instead\n",
      "\n",
      "See the caveats in the documentation: https://pandas.pydata.org/pandas-docs/stable/user_guide/indexing.html#returning-a-view-versus-a-copy\n",
      "  x['processed'] = x['input'].apply(transform_text)\n"
     ]
    },
    {
     "data": {
      "text/html": [
       "<div>\n",
       "<style scoped>\n",
       "    .dataframe tbody tr th:only-of-type {\n",
       "        vertical-align: middle;\n",
       "    }\n",
       "\n",
       "    .dataframe tbody tr th {\n",
       "        vertical-align: top;\n",
       "    }\n",
       "\n",
       "    .dataframe thead th {\n",
       "        text-align: right;\n",
       "    }\n",
       "</style>\n",
       "<table border=\"1\" class=\"dataframe\">\n",
       "  <thead>\n",
       "    <tr style=\"text-align: right;\">\n",
       "      <th></th>\n",
       "      <th>result</th>\n",
       "      <th>input</th>\n",
       "      <th>countCharacters</th>\n",
       "      <th>countWords</th>\n",
       "      <th>countSentences</th>\n",
       "      <th>processed</th>\n",
       "    </tr>\n",
       "  </thead>\n",
       "  <tbody>\n",
       "    <tr>\n",
       "      <th>0</th>\n",
       "      <td>0</td>\n",
       "      <td>Go until jurong point, crazy.. Available only ...</td>\n",
       "      <td>111</td>\n",
       "      <td>24</td>\n",
       "      <td>2</td>\n",
       "      <td>go jurong point crazi avail bugi n great world...</td>\n",
       "    </tr>\n",
       "    <tr>\n",
       "      <th>1</th>\n",
       "      <td>0</td>\n",
       "      <td>Ok lar... Joking wif u oni...</td>\n",
       "      <td>29</td>\n",
       "      <td>8</td>\n",
       "      <td>2</td>\n",
       "      <td>ok lar joke wif u oni</td>\n",
       "    </tr>\n",
       "    <tr>\n",
       "      <th>2</th>\n",
       "      <td>1</td>\n",
       "      <td>Free entry in 2 a wkly comp to win FA Cup fina...</td>\n",
       "      <td>155</td>\n",
       "      <td>37</td>\n",
       "      <td>2</td>\n",
       "      <td>free entri 2 wkli comp win fa cup final tkt 21...</td>\n",
       "    </tr>\n",
       "    <tr>\n",
       "      <th>3</th>\n",
       "      <td>0</td>\n",
       "      <td>U dun say so early hor... U c already then say...</td>\n",
       "      <td>49</td>\n",
       "      <td>13</td>\n",
       "      <td>1</td>\n",
       "      <td>u dun say earli hor u c alreadi say</td>\n",
       "    </tr>\n",
       "    <tr>\n",
       "      <th>4</th>\n",
       "      <td>0</td>\n",
       "      <td>Nah I don't think he goes to usf, he lives aro...</td>\n",
       "      <td>61</td>\n",
       "      <td>15</td>\n",
       "      <td>1</td>\n",
       "      <td>nah think goe usf live around though</td>\n",
       "    </tr>\n",
       "  </tbody>\n",
       "</table>\n",
       "</div>"
      ],
      "text/plain": [
       "   result                                              input  countCharacters  \\\n",
       "0       0  Go until jurong point, crazy.. Available only ...              111   \n",
       "1       0                      Ok lar... Joking wif u oni...               29   \n",
       "2       1  Free entry in 2 a wkly comp to win FA Cup fina...              155   \n",
       "3       0  U dun say so early hor... U c already then say...               49   \n",
       "4       0  Nah I don't think he goes to usf, he lives aro...               61   \n",
       "\n",
       "   countWords  countSentences  \\\n",
       "0          24               2   \n",
       "1           8               2   \n",
       "2          37               2   \n",
       "3          13               1   \n",
       "4          15               1   \n",
       "\n",
       "                                           processed  \n",
       "0  go jurong point crazi avail bugi n great world...  \n",
       "1                              ok lar joke wif u oni  \n",
       "2  free entri 2 wkli comp win fa cup final tkt 21...  \n",
       "3                u dun say earli hor u c alreadi say  \n",
       "4               nah think goe usf live around though  "
      ]
     },
     "execution_count": 65,
     "metadata": {},
     "output_type": "execute_result"
    }
   ],
   "source": [
    "#will create a new column to store the transformed text -> 'processed'\n",
    "x['processed'] = x['input'].apply(transform_text)\n",
    "\n",
    "#displaying the edited dataframe with a new column 'processed'\n",
    "x.head()"
   ]
  },
  {
   "cell_type": "code",
   "execution_count": 66,
   "id": "52148949",
   "metadata": {
    "id": "52148949"
   },
   "outputs": [],
   "source": [
    "#will be creating word cloud for data visualization to display the most frequently occurring words in the processed dataset.\n",
    "#using 'WordCloud' class\n",
    "\n",
    "wc = WordCloud(width=500, height=500, min_font_size=10, background_color='white')"
   ]
  },
  {
   "cell_type": "code",
   "execution_count": 67,
   "id": "475f1006",
   "metadata": {
    "colab": {
     "base_uri": "https://localhost:8080/",
     "height": 544
    },
    "id": "475f1006",
    "outputId": "4549babd-62f6-46e0-f39d-55bd50eb6f32"
   },
   "outputs": [
    {
     "data": {
      "text/plain": [
       "<matplotlib.image.AxesImage at 0x179d195f5d0>"
      ]
     },
     "execution_count": 67,
     "metadata": {},
     "output_type": "execute_result"
    },
    {
     "data": {
      "image/png": "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",
      "text/plain": [
       "<Figure size 1200x600 with 1 Axes>"
      ]
     },
     "metadata": {},
     "output_type": "display_data"
    }
   ],
   "source": [
    "#creating a wordcloud for the SPAM messages\n",
    "spamWC = wc.generate(x[x['result'] == 1]['processed'].str.cat(sep=\" \"))\n",
    "\n",
    "#creating figure and displaying\n",
    "plt.figure(figsize=(12, 6))\n",
    "plt.imshow(spamWC)"
   ]
  },
  {
   "cell_type": "code",
   "execution_count": 68,
   "id": "KKjzvZxw9fA7",
   "metadata": {
    "colab": {
     "base_uri": "https://localhost:8080/",
     "height": 544
    },
    "id": "KKjzvZxw9fA7",
    "outputId": "a2b023fb-f675-4209-c84b-22895c8d2088"
   },
   "outputs": [
    {
     "data": {
      "text/plain": [
       "<matplotlib.image.AxesImage at 0x179d144f790>"
      ]
     },
     "execution_count": 68,
     "metadata": {},
     "output_type": "execute_result"
    },
    {
     "data": {
      "image/png": "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",
      "text/plain": [
       "<Figure size 1200x600 with 1 Axes>"
      ]
     },
     "metadata": {},
     "output_type": "display_data"
    }
   ],
   "source": [
    "#creating a wordcloud for the not SPAM messages\n",
    "spamWC = wc.generate(x[x['result'] == 0]['processed'].str.cat(sep=\" \"))\n",
    "\n",
    "#creating figure and displaying\n",
    "plt.figure(figsize=(12, 6))\n",
    "plt.imshow(spamWC)"
   ]
  },
  {
   "cell_type": "code",
   "execution_count": 69,
   "id": "kjNkfXx793fG",
   "metadata": {
    "id": "kjNkfXx793fG"
   },
   "outputs": [],
   "source": [
    "#extracting the most common words used in both SPAM and not SPAM messages"
   ]
  },
  {
   "cell_type": "code",
   "execution_count": 70,
   "id": "0GM55U9i-rfk",
   "metadata": {
    "colab": {
     "base_uri": "https://localhost:8080/"
    },
    "id": "0GM55U9i-rfk",
    "outputId": "5071b249-15f8-4def-8882-0fb5d763bea0"
   },
   "outputs": [
    {
     "data": {
      "text/plain": [
       "['free',\n",
       " 'entri',\n",
       " '2',\n",
       " 'wkli',\n",
       " 'comp',\n",
       " 'win',\n",
       " 'fa',\n",
       " 'cup',\n",
       " 'final',\n",
       " 'tkt',\n",
       " '21st',\n",
       " 'may',\n",
       " 'text',\n",
       " 'fa',\n",
       " '87121',\n",
       " 'receiv',\n",
       " 'entri',\n",
       " 'question',\n",
       " 'std',\n",
       " 'txt',\n",
       " 'rate',\n",
       " 'c',\n",
       " 'appli',\n",
       " '08452810075over18',\n",
       " 'freemsg',\n",
       " 'hey',\n",
       " 'darl',\n",
       " '3',\n",
       " 'week',\n",
       " 'word',\n",
       " 'back',\n",
       " 'like',\n",
       " 'fun',\n",
       " 'still',\n",
       " 'tb',\n",
       " 'ok',\n",
       " 'xxx',\n",
       " 'std',\n",
       " 'chg',\n",
       " 'send',\n",
       " 'rcv',\n",
       " 'winner',\n",
       " 'valu',\n",
       " 'network',\n",
       " 'custom',\n",
       " 'select',\n",
       " 'receivea',\n",
       " 'prize',\n",
       " 'reward',\n",
       " 'claim',\n",
       " 'call',\n",
       " 'claim',\n",
       " 'code',\n",
       " 'kl341',\n",
       " 'valid',\n",
       " '12',\n",
       " 'hour',\n",
       " 'mobil',\n",
       " '11',\n",
       " 'month',\n",
       " 'u',\n",
       " 'r',\n",
       " 'entitl',\n",
       " 'updat',\n",
       " 'latest',\n",
       " 'colour',\n",
       " 'mobil',\n",
       " 'camera',\n",
       " 'free',\n",
       " 'call',\n",
       " 'mobil',\n",
       " 'updat',\n",
       " 'co',\n",
       " 'free',\n",
       " '08002986030',\n",
       " 'six',\n",
       " 'chanc',\n",
       " 'win',\n",
       " 'cash',\n",
       " '100',\n",
       " 'pound',\n",
       " 'txt',\n",
       " 'csh11',\n",
       " 'send',\n",
       " 'cost',\n",
       " '6day',\n",
       " 'tsandc',\n",
       " 'appli',\n",
       " 'repli',\n",
       " 'hl',\n",
       " '4',\n",
       " 'info',\n",
       " 'urgent',\n",
       " '1',\n",
       " 'week',\n",
       " 'free',\n",
       " 'membership',\n",
       " 'prize',\n",
       " 'jackpot',\n",
       " 'txt',\n",
       " 'word',\n",
       " 'claim',\n",
       " '81010',\n",
       " 'c',\n",
       " 'lccltd',\n",
       " 'pobox',\n",
       " '4403ldnw1a7rw18',\n",
       " 'xxxmobilemovieclub',\n",
       " 'use',\n",
       " 'credit',\n",
       " 'click',\n",
       " 'wap',\n",
       " 'link',\n",
       " 'next',\n",
       " 'txt',\n",
       " 'messag',\n",
       " 'click',\n",
       " 'http',\n",
       " 'england',\n",
       " 'v',\n",
       " 'macedonia',\n",
       " 'dont',\n",
       " 'miss',\n",
       " 'news',\n",
       " 'txt',\n",
       " 'ur',\n",
       " 'nation',\n",
       " 'team',\n",
       " '87077',\n",
       " 'eg',\n",
       " 'england',\n",
       " '87077',\n",
       " 'tri',\n",
       " 'wale',\n",
       " 'scotland',\n",
       " 'poboxox36504w45wq',\n",
       " 'thank',\n",
       " 'subscript',\n",
       " 'rington',\n",
       " 'uk',\n",
       " 'mobil',\n",
       " 'charg',\n",
       " 'pleas',\n",
       " 'confirm',\n",
       " 'repli',\n",
       " 'ye',\n",
       " 'repli',\n",
       " 'charg',\n",
       " '07732584351',\n",
       " 'rodger',\n",
       " 'burn',\n",
       " 'msg',\n",
       " 'tri',\n",
       " 'call',\n",
       " 'repli',\n",
       " 'sm',\n",
       " 'free',\n",
       " 'nokia',\n",
       " 'mobil',\n",
       " 'free',\n",
       " 'camcord',\n",
       " 'pleas',\n",
       " 'call',\n",
       " '08000930705',\n",
       " 'deliveri',\n",
       " 'tomorrow',\n",
       " 'sm',\n",
       " 'ac',\n",
       " 'sptv',\n",
       " 'new',\n",
       " 'jersey',\n",
       " 'devil',\n",
       " 'detroit',\n",
       " 'red',\n",
       " 'wing',\n",
       " 'play',\n",
       " 'ice',\n",
       " 'hockey',\n",
       " 'correct',\n",
       " 'incorrect',\n",
       " 'end',\n",
       " 'repli',\n",
       " 'end',\n",
       " 'sptv',\n",
       " 'congrat',\n",
       " '1',\n",
       " 'year',\n",
       " 'special',\n",
       " 'cinema',\n",
       " 'pass',\n",
       " '2',\n",
       " 'call',\n",
       " '09061209465',\n",
       " 'c',\n",
       " 'suprman',\n",
       " 'v',\n",
       " 'matrix3',\n",
       " 'starwars3',\n",
       " 'etc',\n",
       " '4',\n",
       " 'free',\n",
       " '150pm',\n",
       " 'dont',\n",
       " 'miss',\n",
       " 'valu',\n",
       " 'custom',\n",
       " 'pleas',\n",
       " 'advis',\n",
       " 'follow',\n",
       " 'recent',\n",
       " 'review',\n",
       " 'mob',\n",
       " 'award',\n",
       " 'bonu',\n",
       " 'prize',\n",
       " 'call',\n",
       " '09066364589',\n",
       " 'urgent',\n",
       " 'ur',\n",
       " 'award',\n",
       " 'complimentari',\n",
       " 'trip',\n",
       " 'eurodisinc',\n",
       " 'trav',\n",
       " 'aco',\n",
       " 'entry41',\n",
       " 'claim',\n",
       " 'txt',\n",
       " 'di',\n",
       " '87121',\n",
       " 'morefrmmob',\n",
       " 'shracomorsglsuplt',\n",
       " '10',\n",
       " 'ls1',\n",
       " '3aj',\n",
       " 'hear',\n",
       " 'new',\n",
       " 'come',\n",
       " 'ken',\n",
       " 'stuff',\n",
       " 'pleas',\n",
       " 'call',\n",
       " 'custom',\n",
       " 'servic',\n",
       " 'repres',\n",
       " '0800',\n",
       " '169',\n",
       " '6031',\n",
       " 'guarante',\n",
       " 'cash',\n",
       " 'prize',\n",
       " 'free',\n",
       " 'rington',\n",
       " 'wait',\n",
       " 'collect',\n",
       " 'simpli',\n",
       " 'text',\n",
       " 'password',\n",
       " '85069',\n",
       " 'verifi',\n",
       " 'get',\n",
       " 'usher',\n",
       " 'britney',\n",
       " 'fml',\n",
       " 'gent',\n",
       " 'tri',\n",
       " 'contact',\n",
       " 'last',\n",
       " 'weekend',\n",
       " 'draw',\n",
       " 'show',\n",
       " 'prize',\n",
       " 'guarante',\n",
       " 'call',\n",
       " 'claim',\n",
       " 'code',\n",
       " 'k52',\n",
       " 'valid',\n",
       " '12hr',\n",
       " '150ppm',\n",
       " 'winner',\n",
       " 'u',\n",
       " 'special',\n",
       " 'select',\n",
       " '2',\n",
       " 'receiv',\n",
       " '4',\n",
       " 'holiday',\n",
       " 'flight',\n",
       " 'inc',\n",
       " 'speak',\n",
       " 'live',\n",
       " 'oper',\n",
       " '2',\n",
       " 'claim',\n",
       " 'privat',\n",
       " '2004',\n",
       " 'account',\n",
       " 'statement',\n",
       " '07742676969',\n",
       " 'show',\n",
       " '786',\n",
       " 'unredeem',\n",
       " 'bonu',\n",
       " 'point',\n",
       " 'claim',\n",
       " 'call',\n",
       " '08719180248',\n",
       " 'identifi',\n",
       " 'code',\n",
       " '45239',\n",
       " 'expir',\n",
       " 'urgent',\n",
       " 'mobil',\n",
       " 'award',\n",
       " 'bonu',\n",
       " 'caller',\n",
       " 'prize',\n",
       " 'final',\n",
       " 'tri',\n",
       " 'contact',\n",
       " 'u',\n",
       " 'call',\n",
       " 'landlin',\n",
       " '09064019788',\n",
       " 'box42wr29c',\n",
       " '150ppm',\n",
       " 'today',\n",
       " 'voda',\n",
       " 'number',\n",
       " 'end',\n",
       " '7548',\n",
       " 'select',\n",
       " 'receiv',\n",
       " '350',\n",
       " 'award',\n",
       " 'match',\n",
       " 'pleas',\n",
       " 'call',\n",
       " '08712300220',\n",
       " 'quot',\n",
       " 'claim',\n",
       " 'code',\n",
       " '4041',\n",
       " 'standard',\n",
       " 'rate',\n",
       " 'app',\n",
       " 'sunshin',\n",
       " 'quiz',\n",
       " 'wkli',\n",
       " 'q',\n",
       " 'win',\n",
       " 'top',\n",
       " 'soni',\n",
       " 'dvd',\n",
       " 'player',\n",
       " 'u',\n",
       " 'know',\n",
       " 'countri',\n",
       " 'algarv',\n",
       " 'txt',\n",
       " 'ansr',\n",
       " 'sp',\n",
       " 'tyron',\n",
       " 'want',\n",
       " '2',\n",
       " 'get',\n",
       " 'laid',\n",
       " 'tonight',\n",
       " 'want',\n",
       " 'real',\n",
       " 'dog',\n",
       " 'locat',\n",
       " 'sent',\n",
       " 'direct',\n",
       " '2',\n",
       " 'ur',\n",
       " 'mob',\n",
       " 'join',\n",
       " 'uk',\n",
       " 'largest',\n",
       " 'dog',\n",
       " 'network',\n",
       " 'bt',\n",
       " 'txting',\n",
       " 'gravel',\n",
       " '69888',\n",
       " 'nt',\n",
       " 'ec2a',\n",
       " '150p',\n",
       " 'rcv',\n",
       " 'msg',\n",
       " 'chat',\n",
       " 'svc',\n",
       " 'free',\n",
       " 'hardcor',\n",
       " 'servic',\n",
       " 'text',\n",
       " 'go',\n",
       " '69988',\n",
       " 'u',\n",
       " 'get',\n",
       " 'noth',\n",
       " 'u',\n",
       " 'must',\n",
       " 'age',\n",
       " 'verifi',\n",
       " 'yr',\n",
       " 'network',\n",
       " 'tri',\n",
       " 'freemsg',\n",
       " 'repli',\n",
       " 'text',\n",
       " 'randi',\n",
       " 'sexi',\n",
       " 'femal',\n",
       " 'live',\n",
       " 'local',\n",
       " 'luv',\n",
       " 'hear',\n",
       " 'netcollex',\n",
       " 'ltd',\n",
       " '08700621170150p',\n",
       " 'per',\n",
       " 'msg',\n",
       " 'repli',\n",
       " 'stop',\n",
       " 'end',\n",
       " 'custom',\n",
       " 'servic',\n",
       " 'annonc',\n",
       " 'new',\n",
       " 'year',\n",
       " 'deliveri',\n",
       " 'wait',\n",
       " 'pleas',\n",
       " 'call',\n",
       " '07046744435',\n",
       " 'arrang',\n",
       " 'deliveri',\n",
       " 'winner',\n",
       " 'u',\n",
       " 'special',\n",
       " 'select',\n",
       " '2',\n",
       " 'receiv',\n",
       " 'cash',\n",
       " '4',\n",
       " 'holiday',\n",
       " 'flight',\n",
       " 'inc',\n",
       " 'speak',\n",
       " 'live',\n",
       " 'oper',\n",
       " '2',\n",
       " 'claim',\n",
       " '0871277810810',\n",
       " 'stop',\n",
       " 'bootydeli',\n",
       " 'invit',\n",
       " 'friend',\n",
       " 'repli',\n",
       " 'see',\n",
       " 'stop',\n",
       " 'send',\n",
       " 'stop',\n",
       " 'frnd',\n",
       " '62468',\n",
       " 'bangbab',\n",
       " 'ur',\n",
       " 'order',\n",
       " 'way',\n",
       " 'u',\n",
       " 'receiv',\n",
       " 'servic',\n",
       " 'msg',\n",
       " '2',\n",
       " 'download',\n",
       " 'ur',\n",
       " 'content',\n",
       " 'u',\n",
       " 'goto',\n",
       " 'wap',\n",
       " 'bangb',\n",
       " 'tv',\n",
       " 'ur',\n",
       " 'mobil',\n",
       " 'menu',\n",
       " 'urgent',\n",
       " 'tri',\n",
       " 'contact',\n",
       " 'last',\n",
       " 'weekend',\n",
       " 'draw',\n",
       " 'show',\n",
       " 'prize',\n",
       " 'guarante',\n",
       " 'call',\n",
       " 'claim',\n",
       " 'code',\n",
       " 's89',\n",
       " 'valid',\n",
       " '12hr',\n",
       " 'pleas',\n",
       " 'call',\n",
       " 'custom',\n",
       " 'servic',\n",
       " 'repres',\n",
       " 'freephon',\n",
       " '0808',\n",
       " '145',\n",
       " '4742',\n",
       " 'guarante',\n",
       " 'cash',\n",
       " 'prize',\n",
       " 'uniqu',\n",
       " 'enough',\n",
       " 'find',\n",
       " '30th',\n",
       " 'august',\n",
       " '500',\n",
       " 'new',\n",
       " 'mobil',\n",
       " '2004',\n",
       " 'must',\n",
       " 'go',\n",
       " 'txt',\n",
       " 'nokia',\n",
       " '89545',\n",
       " 'collect',\n",
       " 'today',\n",
       " '2optout',\n",
       " 'u',\n",
       " 'meet',\n",
       " 'ur',\n",
       " 'dream',\n",
       " 'partner',\n",
       " 'soon',\n",
       " 'ur',\n",
       " 'career',\n",
       " '2',\n",
       " 'flyng',\n",
       " 'start',\n",
       " '2',\n",
       " 'find',\n",
       " 'free',\n",
       " 'txt',\n",
       " 'horo',\n",
       " 'follow',\n",
       " 'ur',\n",
       " 'star',\n",
       " 'sign',\n",
       " 'horo',\n",
       " 'ari',\n",
       " 'text',\n",
       " 'meet',\n",
       " 'someon',\n",
       " 'sexi',\n",
       " 'today',\n",
       " 'u',\n",
       " 'find',\n",
       " 'date',\n",
       " 'even',\n",
       " 'flirt',\n",
       " 'join',\n",
       " '4',\n",
       " '10p',\n",
       " 'repli',\n",
       " 'name',\n",
       " 'age',\n",
       " 'eg',\n",
       " 'sam',\n",
       " '25',\n",
       " '18',\n",
       " 'recd',\n",
       " 'thirtyeight',\n",
       " 'penc',\n",
       " 'u',\n",
       " '447801259231',\n",
       " 'secret',\n",
       " 'admir',\n",
       " 'look',\n",
       " '2',\n",
       " 'make',\n",
       " 'contact',\n",
       " 'r',\n",
       " 'reveal',\n",
       " 'think',\n",
       " 'ur',\n",
       " '09058094597',\n",
       " 'congratul',\n",
       " 'ur',\n",
       " 'award',\n",
       " '500',\n",
       " 'cd',\n",
       " 'voucher',\n",
       " '125gift',\n",
       " 'guarante',\n",
       " 'free',\n",
       " 'entri',\n",
       " '2',\n",
       " '100',\n",
       " 'wkli',\n",
       " 'draw',\n",
       " 'txt',\n",
       " 'music',\n",
       " '87066',\n",
       " 'tnc',\n",
       " 'tri',\n",
       " 'contact',\n",
       " 'repli',\n",
       " 'offer',\n",
       " 'video',\n",
       " 'handset',\n",
       " '750',\n",
       " 'anytim',\n",
       " 'network',\n",
       " 'min',\n",
       " 'unlimit',\n",
       " 'text',\n",
       " 'camcord',\n",
       " 'repli',\n",
       " 'call',\n",
       " '08000930705',\n",
       " 'hey',\n",
       " 'realli',\n",
       " 'horni',\n",
       " 'want',\n",
       " 'chat',\n",
       " 'see',\n",
       " 'nake',\n",
       " 'text',\n",
       " 'hot',\n",
       " '69698',\n",
       " 'text',\n",
       " 'charg',\n",
       " '150pm',\n",
       " 'unsubscrib',\n",
       " 'text',\n",
       " 'stop',\n",
       " '69698',\n",
       " 'ur',\n",
       " 'rington',\n",
       " 'servic',\n",
       " 'chang',\n",
       " '25',\n",
       " 'free',\n",
       " 'credit',\n",
       " 'go',\n",
       " 'choos',\n",
       " 'content',\n",
       " 'stop',\n",
       " 'txt',\n",
       " 'club',\n",
       " 'stop',\n",
       " '87070',\n",
       " 'club4',\n",
       " 'po',\n",
       " 'box1146',\n",
       " 'mk45',\n",
       " '2wt',\n",
       " 'rington',\n",
       " 'club',\n",
       " 'get',\n",
       " 'uk',\n",
       " 'singl',\n",
       " 'chart',\n",
       " 'mobil',\n",
       " 'week',\n",
       " 'choos',\n",
       " 'top',\n",
       " 'qualiti',\n",
       " 'rington',\n",
       " 'messag',\n",
       " 'free',\n",
       " 'charg',\n",
       " 'hmv',\n",
       " 'bonu',\n",
       " 'special',\n",
       " '500',\n",
       " 'pound',\n",
       " 'genuin',\n",
       " 'hmv',\n",
       " 'voucher',\n",
       " 'answer',\n",
       " '4',\n",
       " 'easi',\n",
       " 'question',\n",
       " 'play',\n",
       " 'send',\n",
       " 'hmv',\n",
       " '86688',\n",
       " 'info',\n",
       " 'custom',\n",
       " 'may',\n",
       " 'claim',\n",
       " 'free',\n",
       " 'camera',\n",
       " 'phone',\n",
       " 'upgrad',\n",
       " 'pay',\n",
       " 'go',\n",
       " 'sim',\n",
       " 'card',\n",
       " 'loyalti',\n",
       " 'call',\n",
       " '0845',\n",
       " '021',\n",
       " 'end',\n",
       " 'c',\n",
       " 'appli',\n",
       " 'sm',\n",
       " 'ac',\n",
       " 'blind',\n",
       " 'date',\n",
       " '4u',\n",
       " 'rodds1',\n",
       " 'aberdeen',\n",
       " 'unit',\n",
       " 'kingdom',\n",
       " 'check',\n",
       " 'http',\n",
       " 'sm',\n",
       " 'blind',\n",
       " 'date',\n",
       " 'send',\n",
       " 'hide',\n",
       " 'themob',\n",
       " 'check',\n",
       " 'newest',\n",
       " 'select',\n",
       " 'content',\n",
       " 'game',\n",
       " 'tone',\n",
       " 'gossip',\n",
       " 'babe',\n",
       " 'sport',\n",
       " 'keep',\n",
       " 'mobil',\n",
       " 'fit',\n",
       " 'funki',\n",
       " 'text',\n",
       " 'wap',\n",
       " '82468',\n",
       " 'think',\n",
       " 'ur',\n",
       " 'smart',\n",
       " 'win',\n",
       " 'week',\n",
       " 'weekli',\n",
       " 'quiz',\n",
       " 'text',\n",
       " 'play',\n",
       " '85222',\n",
       " 'cs',\n",
       " 'winnersclub',\n",
       " 'po',\n",
       " 'box',\n",
       " '84',\n",
       " 'm26',\n",
       " '3uz',\n",
       " 'decemb',\n",
       " 'mobil',\n",
       " 'entitl',\n",
       " 'updat',\n",
       " 'latest',\n",
       " 'colour',\n",
       " 'camera',\n",
       " 'mobil',\n",
       " 'free',\n",
       " 'call',\n",
       " 'mobil',\n",
       " 'updat',\n",
       " 'co',\n",
       " 'free',\n",
       " '08002986906',\n",
       " 'call',\n",
       " 'germani',\n",
       " '1',\n",
       " 'penc',\n",
       " 'per',\n",
       " 'minut',\n",
       " 'call',\n",
       " 'fix',\n",
       " 'line',\n",
       " 'via',\n",
       " 'access',\n",
       " 'number',\n",
       " '0844',\n",
       " '861',\n",
       " '85',\n",
       " 'prepay',\n",
       " 'direct',\n",
       " 'access',\n",
       " 'valentin',\n",
       " 'day',\n",
       " 'special',\n",
       " 'win',\n",
       " 'quiz',\n",
       " 'take',\n",
       " 'partner',\n",
       " 'trip',\n",
       " 'lifetim',\n",
       " 'send',\n",
       " 'go',\n",
       " '83600',\n",
       " 'rcvd',\n",
       " 'fanci',\n",
       " 'shag',\n",
       " 'txt',\n",
       " 'xxuk',\n",
       " 'suzi',\n",
       " 'txt',\n",
       " 'cost',\n",
       " 'per',\n",
       " 'msg',\n",
       " 'tnc',\n",
       " 'websit',\n",
       " 'x',\n",
       " 'ur',\n",
       " 'current',\n",
       " '500',\n",
       " 'pound',\n",
       " 'maxim',\n",
       " 'ur',\n",
       " 'send',\n",
       " 'cash',\n",
       " '86688',\n",
       " 'cc',\n",
       " '08708800282',\n",
       " 'xma',\n",
       " 'offer',\n",
       " 'latest',\n",
       " 'motorola',\n",
       " 'sonyericsson',\n",
       " 'nokia',\n",
       " 'free',\n",
       " 'bluetooth',\n",
       " 'doubl',\n",
       " 'min',\n",
       " '1000',\n",
       " 'txt',\n",
       " 'orang',\n",
       " 'call',\n",
       " 'mobileupd8',\n",
       " '08000839402',\n",
       " 'discount',\n",
       " 'code',\n",
       " 'rp176781',\n",
       " 'stop',\n",
       " 'messag',\n",
       " 'repli',\n",
       " 'stop',\n",
       " 'custom',\n",
       " 'servic',\n",
       " '08717205546',\n",
       " 'thank',\n",
       " 'rington',\n",
       " 'order',\n",
       " 'refer',\n",
       " 't91',\n",
       " 'charg',\n",
       " 'gbp',\n",
       " '4',\n",
       " 'per',\n",
       " 'week',\n",
       " 'unsubscrib',\n",
       " 'anytim',\n",
       " 'call',\n",
       " 'custom',\n",
       " 'servic',\n",
       " '09057039994',\n",
       " 'doubl',\n",
       " 'min',\n",
       " 'txt',\n",
       " '4',\n",
       " '6month',\n",
       " 'free',\n",
       " 'bluetooth',\n",
       " 'orang',\n",
       " 'avail',\n",
       " 'soni',\n",
       " 'nokia',\n",
       " 'motorola',\n",
       " 'phone',\n",
       " 'call',\n",
       " 'mobileupd8',\n",
       " '08000839402',\n",
       " '4mth',\n",
       " 'half',\n",
       " 'price',\n",
       " 'orang',\n",
       " 'line',\n",
       " 'rental',\n",
       " 'latest',\n",
       " 'camera',\n",
       " 'phone',\n",
       " '4',\n",
       " 'free',\n",
       " 'phone',\n",
       " '11mth',\n",
       " 'call',\n",
       " 'mobilesdirect',\n",
       " 'free',\n",
       " '08000938767',\n",
       " 'updat',\n",
       " 'or2stoptxt',\n",
       " 'free',\n",
       " 'rington',\n",
       " 'text',\n",
       " 'first',\n",
       " '87131',\n",
       " 'poli',\n",
       " 'text',\n",
       " 'get',\n",
       " '87131',\n",
       " 'true',\n",
       " 'tone',\n",
       " 'help',\n",
       " '0845',\n",
       " '2814032',\n",
       " '16',\n",
       " '1st',\n",
       " 'free',\n",
       " 'tone',\n",
       " 'txt',\n",
       " 'stop',\n",
       " '100',\n",
       " 'date',\n",
       " 'servic',\n",
       " 'cal',\n",
       " 'l',\n",
       " '09064012103',\n",
       " 'box334sk38ch',\n",
       " 'free',\n",
       " 'entri',\n",
       " 'weekli',\n",
       " 'competit',\n",
       " 'text',\n",
       " 'word',\n",
       " 'win',\n",
       " '80086',\n",
       " '18',\n",
       " 'c',\n",
       " 'send',\n",
       " 'logo',\n",
       " '2',\n",
       " 'ur',\n",
       " 'lover',\n",
       " '2',\n",
       " 'name',\n",
       " 'join',\n",
       " 'heart',\n",
       " 'txt',\n",
       " 'love',\n",
       " 'name1',\n",
       " 'name2',\n",
       " 'mobno',\n",
       " 'eg',\n",
       " 'love',\n",
       " 'adam',\n",
       " 'eve',\n",
       " '07123456789',\n",
       " '87077',\n",
       " 'yahoo',\n",
       " 'pobox36504w45wq',\n",
       " 'txtno',\n",
       " '4',\n",
       " 'ad',\n",
       " '150p',\n",
       " 'someon',\n",
       " 'contact',\n",
       " 'date',\n",
       " 'servic',\n",
       " 'enter',\n",
       " 'phone',\n",
       " 'fanci',\n",
       " 'find',\n",
       " 'call',\n",
       " 'landlin',\n",
       " '09111032124',\n",
       " 'pobox12n146tf150p',\n",
       " 'urgent',\n",
       " 'mobil',\n",
       " 'number',\n",
       " 'award',\n",
       " 'prize',\n",
       " 'guarante',\n",
       " 'call',\n",
       " '09058094455',\n",
       " 'land',\n",
       " 'line',\n",
       " 'claim',\n",
       " 'valid',\n",
       " '12hr',\n",
       " 'congrat',\n",
       " 'nokia',\n",
       " '3650',\n",
       " 'video',\n",
       " 'camera',\n",
       " ...]"
      ]
     },
     "execution_count": 70,
     "metadata": {},
     "output_type": "execute_result"
    }
   ],
   "source": [
    "#extracting all the words used in SPAM messages\n",
    "spamWords = list()\n",
    "\n",
    "for msg in x[x['result'] == 1]['processed'].tolist():\n",
    "  for word in msg.split():\n",
    "    spamWords.append(word)\n",
    "\n",
    "spamWords"
   ]
  },
  {
   "cell_type": "code",
   "execution_count": 71,
   "id": "Us_mXRt5-ySp",
   "metadata": {
    "colab": {
     "base_uri": "https://localhost:8080/"
    },
    "id": "Us_mXRt5-ySp",
    "outputId": "672e4846-6246-4585-a7e7-2ff600e21de9"
   },
   "outputs": [
    {
     "data": {
      "text/plain": [
       "[('call', 320),\n",
       " ('free', 191),\n",
       " ('2', 155),\n",
       " ('txt', 141),\n",
       " ('text', 122),\n",
       " ('u', 119),\n",
       " ('ur', 119),\n",
       " ('mobil', 114),\n",
       " ('stop', 104),\n",
       " ('repli', 103),\n",
       " ('claim', 98),\n",
       " ('4', 97),\n",
       " ('prize', 82),\n",
       " ('get', 74),\n",
       " ('new', 64),\n",
       " ('servic', 64),\n",
       " ('tone', 63),\n",
       " ('send', 60),\n",
       " ('urgent', 57),\n",
       " ('nokia', 57),\n",
       " ('contact', 56),\n",
       " ('award', 55),\n",
       " ('phone', 52),\n",
       " ('cash', 51),\n",
       " ('pleas', 51),\n",
       " ('week', 49),\n",
       " ('win', 48),\n",
       " ('c', 45),\n",
       " ('collect', 45),\n",
       " ('min', 45),\n",
       " ('custom', 42),\n",
       " ('messag', 42),\n",
       " ('guarante', 42),\n",
       " ('per', 41),\n",
       " ('chat', 38),\n",
       " ('tri', 37),\n",
       " ('msg', 35),\n",
       " ('draw', 35),\n",
       " ('number', 35),\n",
       " ('cs', 35)]"
      ]
     },
     "execution_count": 71,
     "metadata": {},
     "output_type": "execute_result"
    }
   ],
   "source": [
    "#to count the frequency of the words, we will be using the Counter class to create a dictionary\n",
    "spamWordsDictionary = Counter(spamWords)\n",
    "\n",
    "#to extract the most common words\n",
    "spamWordsDictionary.most_common(40)"
   ]
  },
  {
   "cell_type": "code",
   "execution_count": 72,
   "id": "fDKbm3uH_Nph",
   "metadata": {
    "id": "fDKbm3uH_Nph"
   },
   "outputs": [],
   "source": [
    "#converting this dictionary to a dataframe\n",
    "mostCommonSPAM = pd.DataFrame(spamWordsDictionary.most_common(40))"
   ]
  },
  {
   "cell_type": "code",
   "execution_count": 73,
   "id": "jBblxZIk_30g",
   "metadata": {
    "colab": {
     "base_uri": "https://localhost:8080/",
     "height": 591
    },
    "id": "jBblxZIk_30g",
    "outputId": "35d21f65-22df-42ee-e307-d6ca39b06c7e"
   },
   "outputs": [
    {
     "data": {
      "image/png": "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",
      "text/plain": [
       "<Figure size 1200x600 with 1 Axes>"
      ]
     },
     "metadata": {},
     "output_type": "display_data"
    }
   ],
   "source": [
    "#plotting a bar plot of the mostCommonSPAM dataframe\n",
    "plt.figure(figsize=(12, 6))\n",
    "sns.barplot(data = mostCommonSPAM, x=0, y=1)\n",
    "plt.xticks(rotation='vertical')\n",
    "plt.show()"
   ]
  },
  {
   "cell_type": "code",
   "execution_count": 74,
   "id": "iHYyTWYDAO2p",
   "metadata": {
    "id": "iHYyTWYDAO2p"
   },
   "outputs": [],
   "source": [
    "#words like 'CALL', 'FREE', '2', 'TXT', 'TEXT', 'UR', 'MOBIL' are the most common words in SPAM texts"
   ]
  },
  {
   "cell_type": "markdown",
   "id": "hD1ryYyPDoUS",
   "metadata": {
    "id": "hD1ryYyPDoUS"
   },
   "source": [
    "## Model Building"
   ]
  },
  {
   "cell_type": "code",
   "execution_count": 75,
   "id": "g4CYS7lVD02K",
   "metadata": {
    "id": "g4CYS7lVD02K"
   },
   "outputs": [],
   "source": [
    "#NaiveBayes classifier works BEST on textual data, so will firstly perform it on the dataset."
   ]
  },
  {
   "cell_type": "code",
   "execution_count": 76,
   "id": "-WxWmcFCEAFI",
   "metadata": {
    "id": "-WxWmcFCEAFI"
   },
   "outputs": [],
   "source": [
    "#we need to give numerical inputs to the classifier model, so will have to convert the 'processed' column into vectors.\n",
    "#using 'bag of words'"
   ]
  },
  {
   "cell_type": "code",
   "execution_count": 77,
   "id": "GXzUN--UEznA",
   "metadata": {
    "id": "GXzUN--UEznA"
   },
   "outputs": [],
   "source": [
    "#converting the collection of text into a matrix of token counts\n",
    "cv = CountVectorizer()"
   ]
  },
  {
   "cell_type": "code",
   "execution_count": 78,
   "id": "zdPlxYWXE-vm",
   "metadata": {
    "colab": {
     "base_uri": "https://localhost:8080/"
    },
    "id": "zdPlxYWXE-vm",
    "outputId": "72f25fec-fdb9-416e-e396-d42079ea16ea"
   },
   "outputs": [
    {
     "data": {
      "text/plain": [
       "(5169, 6708)"
      ]
     },
     "execution_count": 78,
     "metadata": {},
     "output_type": "execute_result"
    }
   ],
   "source": [
    "#transforming the data of processed column\n",
    "X = cv.fit_transform(x['processed']).toarray()\n",
    "\n",
    "#printing size of X\n",
    "X.shape"
   ]
  },
  {
   "cell_type": "code",
   "execution_count": 79,
   "id": "UaAee-QhFDdf",
   "metadata": {
    "colab": {
     "base_uri": "https://localhost:8080/"
    },
    "id": "UaAee-QhFDdf",
    "outputId": "a345bad7-d8e7-42c6-d819-afc691eb5e5a"
   },
   "outputs": [
    {
     "data": {
      "text/plain": [
       "array([0, 0, 1, ..., 0, 0, 0])"
      ]
     },
     "execution_count": 79,
     "metadata": {},
     "output_type": "execute_result"
    }
   ],
   "source": [
    "#storing the values of the 'result' column\n",
    "y = x['result'].values\n",
    "y"
   ]
  },
  {
   "cell_type": "code",
   "execution_count": 80,
   "id": "2LZrgCI0FY8y",
   "metadata": {
    "id": "2LZrgCI0FY8y"
   },
   "outputs": [],
   "source": [
    "#splitting the training and testing dataset\n",
    "X_train, X_test, y_train, y_test = train_test_split(X, y, test_size = 0.2, random_state = 49)"
   ]
  },
  {
   "cell_type": "code",
   "execution_count": 81,
   "id": "0_3FTO2RHQuv",
   "metadata": {
    "id": "0_3FTO2RHQuv"
   },
   "outputs": [],
   "source": [
    "#creating the objects for the models\n",
    "gnb = GaussianNB()\n",
    "mnb = MultinomialNB()\n",
    "bnb = BernoulliNB()"
   ]
  },
  {
   "cell_type": "code",
   "execution_count": 82,
   "id": "A3-_9K4ZH3nO",
   "metadata": {
    "colab": {
     "base_uri": "https://localhost:8080/"
    },
    "id": "A3-_9K4ZH3nO",
    "outputId": "d328caf1-48cc-404f-ac19-4ed4ab7da539"
   },
   "outputs": [
    {
     "name": "stdout",
     "output_type": "stream",
     "text": [
      "0.8617021276595744\n",
      "[[774 125]\n",
      " [ 18 117]]\n",
      "0.4834710743801653\n"
     ]
    }
   ],
   "source": [
    "#training the dataset for GaussianNB\n",
    "gnb.fit(X_train, y_train)\n",
    "y_pred1 = gnb.predict(X_test)\n",
    "print(accuracy_score(y_test, y_pred1))\n",
    "print(confusion_matrix(y_test, y_pred1))\n",
    "print(precision_score(y_test, y_pred1))"
   ]
  },
  {
   "cell_type": "code",
   "execution_count": 83,
   "id": "nt9Ox6u6IDeC",
   "metadata": {
    "colab": {
     "base_uri": "https://localhost:8080/"
    },
    "id": "nt9Ox6u6IDeC",
    "outputId": "01abc5e4-75b1-4040-f49c-cc79ce0ec76b"
   },
   "outputs": [
    {
     "name": "stdout",
     "output_type": "stream",
     "text": [
      "0.9700193423597679\n",
      "[[882  17]\n",
      " [ 14 121]]\n",
      "0.8768115942028986\n"
     ]
    }
   ],
   "source": [
    "#training the dataset for MultinomialnNB\n",
    "mnb.fit(X_train, y_train)\n",
    "y_pred2 = mnb.predict(X_test)\n",
    "print(accuracy_score(y_test, y_pred2))\n",
    "print(confusion_matrix(y_test, y_pred2))\n",
    "print(precision_score(y_test, y_pred2))"
   ]
  },
  {
   "cell_type": "code",
   "execution_count": 84,
   "id": "-Qiq7GWJJSLo",
   "metadata": {
    "colab": {
     "base_uri": "https://localhost:8080/"
    },
    "id": "-Qiq7GWJJSLo",
    "outputId": "49278f39-e22a-4559-dd8a-2263cba8c19c"
   },
   "outputs": [
    {
     "name": "stdout",
     "output_type": "stream",
     "text": [
      "0.9642166344294004\n",
      "[[893   6]\n",
      " [ 31 104]]\n",
      "0.9454545454545454\n"
     ]
    }
   ],
   "source": [
    "#training the dataset for BernoulliNB\n",
    "bnb.fit(X_train, y_train)\n",
    "y_pred3 = bnb.predict(X_test)\n",
    "print(accuracy_score(y_test, y_pred3))\n",
    "print(confusion_matrix(y_test, y_pred3))\n",
    "print(precision_score(y_test, y_pred3))"
   ]
  },
  {
   "cell_type": "code",
   "execution_count": 85,
   "id": "BVi02ol7JYYb",
   "metadata": {
    "id": "BVi02ol7JYYb"
   },
   "outputs": [],
   "source": [
    "#we have to focus mainly on 'precision' value\n",
    "#the max precision we got is 9.45 with 9.64 as accuracy"
   ]
  },
  {
   "cell_type": "code",
   "execution_count": 86,
   "id": "m3_35xosKV9Y",
   "metadata": {
    "id": "m3_35xosKV9Y"
   },
   "outputs": [],
   "source": [
    "#using 'TfidfVectorizer' for vectorization \n",
    "tf = TfidfVectorizer()\n",
    "\n",
    "#transforming the data of processed column\n",
    "X = tf.fit_transform(x['processed']).toarray()\n",
    "\n",
    "#storing the values of the 'result' column\n",
    "y = x['result'].values\n",
    "\n",
    "#splitting the training and testing dataset\n",
    "X_train, X_test, y_train, y_test = train_test_split(X, y, test_size = 0.2, random_state = 49)"
   ]
  },
  {
   "cell_type": "code",
   "execution_count": 87,
   "id": "2S1dzhqsKjG0",
   "metadata": {
    "colab": {
     "base_uri": "https://localhost:8080/"
    },
    "id": "2S1dzhqsKjG0",
    "outputId": "2f4b100a-91da-4412-8d58-bf6d01c86c8f"
   },
   "outputs": [
    {
     "name": "stdout",
     "output_type": "stream",
     "text": [
      "0.8597678916827853\n",
      "[[775 124]\n",
      " [ 21 114]]\n",
      "0.4789915966386555\n"
     ]
    }
   ],
   "source": [
    "#training the dataset for GaussianNB\n",
    "gnb.fit(X_train, y_train)\n",
    "y_pred1 = gnb.predict(X_test)\n",
    "print(accuracy_score(y_test, y_pred1))\n",
    "print(confusion_matrix(y_test, y_pred1))\n",
    "print(precision_score(y_test, y_pred1))"
   ]
  },
  {
   "cell_type": "code",
   "execution_count": 88,
   "id": "9DsDpIpNK0PX",
   "metadata": {
    "colab": {
     "base_uri": "https://localhost:8080/"
    },
    "id": "9DsDpIpNK0PX",
    "outputId": "168910f4-2071-49dc-b4a3-340d3065b88a"
   },
   "outputs": [
    {
     "name": "stdout",
     "output_type": "stream",
     "text": [
      "0.9574468085106383\n",
      "[[899   0]\n",
      " [ 44  91]]\n",
      "1.0\n"
     ]
    }
   ],
   "source": [
    "#training the dataset for MultinomialnNB\n",
    "mnb.fit(X_train, y_train)\n",
    "y_pred2 = mnb.predict(X_test)\n",
    "print(accuracy_score(y_test, y_pred2))\n",
    "print(confusion_matrix(y_test, y_pred2))\n",
    "print(precision_score(y_test, y_pred2))"
   ]
  },
  {
   "cell_type": "code",
   "execution_count": 89,
   "id": "0qkJKFHZK065",
   "metadata": {
    "colab": {
     "base_uri": "https://localhost:8080/"
    },
    "id": "0qkJKFHZK065",
    "outputId": "53381466-a601-4735-8730-ca52ad72e152"
   },
   "outputs": [
    {
     "name": "stdout",
     "output_type": "stream",
     "text": [
      "0.9642166344294004\n",
      "[[893   6]\n",
      " [ 31 104]]\n",
      "0.9454545454545454\n"
     ]
    }
   ],
   "source": [
    "#training the dataset for BernoulliNB\n",
    "bnb.fit(X_train, y_train)\n",
    "y_pred3 = bnb.predict(X_test)\n",
    "print(accuracy_score(y_test, y_pred3))\n",
    "print(confusion_matrix(y_test, y_pred3))\n",
    "print(precision_score(y_test, y_pred3))"
   ]
  },
  {
   "cell_type": "code",
   "execution_count": 90,
   "id": "S5O70rceK3pQ",
   "metadata": {
    "id": "S5O70rceK3pQ"
   },
   "outputs": [],
   "source": [
    "#as data is IMBALANCED, precision score matters more than accuracy.\n",
    "#using TfidfVectorizer method, we get precision score = 1 for MultinomialNB\n",
    "#so we will use this only"
   ]
  },
  {
   "cell_type": "code",
   "execution_count": 91,
   "id": "gq-hSXHwLjkn",
   "metadata": {
    "id": "gq-hSXHwLjkn"
   },
   "outputs": [],
   "source": [
    "#trying out different CLASSIFIER model for the BEST predictions\n",
    "from sklearn.linear_model import LogisticRegression\n",
    "from sklearn.svm import SVC\n",
    "from sklearn.naive_bayes import MultinomialNB\n",
    "from sklearn.tree import DecisionTreeClassifier\n",
    "from sklearn.neighbors import KNeighborsClassifier\n",
    "from sklearn.ensemble import RandomForestClassifier\n",
    "from sklearn.ensemble import AdaBoostClassifier\n",
    "from sklearn.ensemble import BaggingClassifier\n",
    "from sklearn.ensemble import ExtraTreesClassifier\n",
    "from sklearn.ensemble import GradientBoostingClassifier"
   ]
  },
  {
   "cell_type": "code",
   "execution_count": 92,
   "id": "HspGQxShLn_B",
   "metadata": {
    "id": "HspGQxShLn_B"
   },
   "outputs": [],
   "source": [
    "#creating objects of the classifier models\n",
    "svc = SVC(kernel='sigmoid', gamma=1.0)\n",
    "knc = KNeighborsClassifier()\n",
    "mnb = MultinomialNB()\n",
    "dtc = DecisionTreeClassifier(max_depth=5)\n",
    "lrc = LogisticRegression(solver='liblinear', penalty='l1')\n",
    "rfc = RandomForestClassifier(n_estimators=50, random_state=2)\n",
    "abc = AdaBoostClassifier(n_estimators=50, random_state=2)\n",
    "bc = BaggingClassifier(n_estimators=50, random_state=2)\n",
    "etc = ExtraTreesClassifier(n_estimators=50, random_state=2)\n",
    "gbdt = GradientBoostingClassifier(n_estimators=50,random_state=2)"
   ]
  },
  {
   "cell_type": "code",
   "execution_count": 93,
   "id": "VJbaA2c8LqQV",
   "metadata": {
    "id": "VJbaA2c8LqQV"
   },
   "outputs": [],
   "source": [
    "#creating a dictionary that maps short names to the corresponding classification models.\n",
    "clfs = {\n",
    "    'SVC' : svc,\n",
    "    'KN' : knc, \n",
    "    'NB': mnb, \n",
    "    'DT': dtc, \n",
    "    'LR': lrc, \n",
    "    'RF': rfc, \n",
    "    'AdaBoost': abc, \n",
    "    'BgC': bc, \n",
    "    'ETC': etc,\n",
    "    'GBDT':gbdt,\n",
    "}"
   ]
  },
  {
   "cell_type": "code",
   "execution_count": 94,
   "id": "yt0KfuNYL7dq",
   "metadata": {
    "id": "yt0KfuNYL7dq"
   },
   "outputs": [],
   "source": [
    "#creating a function which uses train test split data and performing on model and returning the scores\n",
    "def train_classifier(clf,X_train,y_train,X_test,y_test):\n",
    "    clf.fit(X_train,y_train)\n",
    "    y_pred = clf.predict(X_test)\n",
    "    accuracy = accuracy_score(y_test,y_pred)\n",
    "    precision = precision_score(y_test,y_pred)\n",
    "    \n",
    "    return accuracy,precision"
   ]
  },
  {
   "cell_type": "code",
   "execution_count": 99,
   "id": "pL97j-a4MJ2o",
   "metadata": {
    "colab": {
     "base_uri": "https://localhost:8080/",
     "height": 744
    },
    "id": "pL97j-a4MJ2o",
    "outputId": "05d730d3-5625-4952-f6c7-7deb6c8a8303"
   },
   "outputs": [
    {
     "name": "stdout",
     "output_type": "stream",
     "text": [
      "For  SVC\n",
      "Accuracy -  0.960348162475822\n",
      "Precision -  0.9519230769230769\n",
      "For  KN\n",
      "Accuracy -  0.8974854932301741\n",
      "Precision -  1.0\n",
      "For  NB\n",
      "Accuracy -  0.9574468085106383\n",
      "Precision -  1.0\n",
      "For  DT\n",
      "Accuracy -  0.941972920696325\n",
      "Precision -  0.831858407079646\n",
      "For  LR\n",
      "Accuracy -  0.9458413926499033\n",
      "Precision -  0.9072164948453608\n",
      "For  RF\n",
      "Accuracy -  0.9642166344294004\n",
      "Precision -  1.0\n",
      "For  AdaBoost\n",
      "Accuracy -  0.9129593810444874\n",
      "Precision -  0.7472527472527473\n",
      "For  BgC\n",
      "Accuracy -  0.960348162475822\n",
      "Precision -  0.873015873015873\n",
      "For  ETC\n",
      "Accuracy -  0.971953578336557\n",
      "Precision -  1.0\n",
      "For  GBDT\n",
      "Accuracy -  0.9497098646034816\n",
      "Precision -  0.9191919191919192\n"
     ]
    }
   ],
   "source": [
    "#taking each classifier algorithm, training and testing data, storing the score values and then printing for each\n",
    "accuracy_scores = []\n",
    "precision_scores = []\n",
    "\n",
    "for name,clf in clfs.items():\n",
    "    \n",
    "    #calling the previously defined function\n",
    "    current_accuracy,current_precision = train_classifier(clf, X_train,y_train,X_test,y_test)\n",
    "    \n",
    "    print(\"For \",name)\n",
    "    print(\"Accuracy - \",current_accuracy)\n",
    "    print(\"Precision - \",current_precision)\n",
    "    \n",
    "    accuracy_scores.append(current_accuracy)\n",
    "    precision_scores.append(current_precision)"
   ]
  },
  {
   "cell_type": "code",
   "execution_count": 100,
   "id": "iD0iWdnNMaZj",
   "metadata": {
    "id": "iD0iWdnNMaZj"
   },
   "outputs": [
    {
     "data": {
      "text/html": [
       "<div>\n",
       "<style scoped>\n",
       "    .dataframe tbody tr th:only-of-type {\n",
       "        vertical-align: middle;\n",
       "    }\n",
       "\n",
       "    .dataframe tbody tr th {\n",
       "        vertical-align: top;\n",
       "    }\n",
       "\n",
       "    .dataframe thead th {\n",
       "        text-align: right;\n",
       "    }\n",
       "</style>\n",
       "<table border=\"1\" class=\"dataframe\">\n",
       "  <thead>\n",
       "    <tr style=\"text-align: right;\">\n",
       "      <th></th>\n",
       "      <th>Algorithm</th>\n",
       "      <th>Accuracy</th>\n",
       "      <th>Precision</th>\n",
       "    </tr>\n",
       "  </thead>\n",
       "  <tbody>\n",
       "    <tr>\n",
       "      <th>1</th>\n",
       "      <td>KN</td>\n",
       "      <td>0.897485</td>\n",
       "      <td>1.000000</td>\n",
       "    </tr>\n",
       "    <tr>\n",
       "      <th>2</th>\n",
       "      <td>NB</td>\n",
       "      <td>0.957447</td>\n",
       "      <td>1.000000</td>\n",
       "    </tr>\n",
       "    <tr>\n",
       "      <th>8</th>\n",
       "      <td>ETC</td>\n",
       "      <td>0.971954</td>\n",
       "      <td>1.000000</td>\n",
       "    </tr>\n",
       "    <tr>\n",
       "      <th>5</th>\n",
       "      <td>RF</td>\n",
       "      <td>0.964217</td>\n",
       "      <td>1.000000</td>\n",
       "    </tr>\n",
       "    <tr>\n",
       "      <th>0</th>\n",
       "      <td>SVC</td>\n",
       "      <td>0.960348</td>\n",
       "      <td>0.951923</td>\n",
       "    </tr>\n",
       "    <tr>\n",
       "      <th>9</th>\n",
       "      <td>GBDT</td>\n",
       "      <td>0.949710</td>\n",
       "      <td>0.919192</td>\n",
       "    </tr>\n",
       "    <tr>\n",
       "      <th>4</th>\n",
       "      <td>LR</td>\n",
       "      <td>0.945841</td>\n",
       "      <td>0.907216</td>\n",
       "    </tr>\n",
       "    <tr>\n",
       "      <th>7</th>\n",
       "      <td>BgC</td>\n",
       "      <td>0.960348</td>\n",
       "      <td>0.873016</td>\n",
       "    </tr>\n",
       "    <tr>\n",
       "      <th>3</th>\n",
       "      <td>DT</td>\n",
       "      <td>0.941973</td>\n",
       "      <td>0.831858</td>\n",
       "    </tr>\n",
       "    <tr>\n",
       "      <th>6</th>\n",
       "      <td>AdaBoost</td>\n",
       "      <td>0.912959</td>\n",
       "      <td>0.747253</td>\n",
       "    </tr>\n",
       "  </tbody>\n",
       "</table>\n",
       "</div>"
      ],
      "text/plain": [
       "  Algorithm  Accuracy  Precision\n",
       "1        KN  0.897485   1.000000\n",
       "2        NB  0.957447   1.000000\n",
       "8       ETC  0.971954   1.000000\n",
       "5        RF  0.964217   1.000000\n",
       "0       SVC  0.960348   0.951923\n",
       "9      GBDT  0.949710   0.919192\n",
       "4        LR  0.945841   0.907216\n",
       "7       BgC  0.960348   0.873016\n",
       "3        DT  0.941973   0.831858\n",
       "6  AdaBoost  0.912959   0.747253"
      ]
     },
     "execution_count": 100,
     "metadata": {},
     "output_type": "execute_result"
    }
   ],
   "source": [
    "#converting the accuracy and precision score values to a dataframe\n",
    "#sorting on the basis of precision value\n",
    "performance = pd.DataFrame({'Algorithm':clfs.keys(),'Accuracy':accuracy_scores,'Precision':precision_scores}).sort_values('Precision',ascending=False)\n",
    "performance"
   ]
  },
  {
   "cell_type": "code",
   "execution_count": 101,
   "id": "WV78j7NgMqid",
   "metadata": {
    "id": "WV78j7NgMqid"
   },
   "outputs": [],
   "source": [
    "#precision is 1, we need to maximize the accuracy score.\n",
    "#try using the Voting classifier"
   ]
  },
  {
   "cell_type": "code",
   "execution_count": 102,
   "id": "84f7456c",
   "metadata": {},
   "outputs": [],
   "source": [
    "#Voting classifier of NB, RF and ETC\n",
    "\n",
    "#creating the objects for the classifier classes\n",
    "mnb = MultinomialNB()\n",
    "etc = ExtraTreesClassifier(n_estimators=50, random_state=2)\n",
    "rfc = RandomForestClassifier(n_estimators=50, random_state=2)"
   ]
  },
  {
   "cell_type": "code",
   "execution_count": 103,
   "id": "ea9192cf",
   "metadata": {},
   "outputs": [],
   "source": [
    "#creating voting object\n",
    "from sklearn.ensemble import VotingClassifier\n",
    "voting = VotingClassifier(estimators=[('rf', rfc), ('nb', mnb), ('et', etc)],voting='soft')"
   ]
  },
  {
   "cell_type": "code",
   "execution_count": 104,
   "id": "ba480c35",
   "metadata": {
    "scrolled": true
   },
   "outputs": [
    {
     "data": {
      "text/html": [
       "<style>#sk-container-id-1 {\n",
       "  /* Definition of color scheme common for light and dark mode */\n",
       "  --sklearn-color-text: #000;\n",
       "  --sklearn-color-text-muted: #666;\n",
       "  --sklearn-color-line: gray;\n",
       "  /* Definition of color scheme for unfitted estimators */\n",
       "  --sklearn-color-unfitted-level-0: #fff5e6;\n",
       "  --sklearn-color-unfitted-level-1: #f6e4d2;\n",
       "  --sklearn-color-unfitted-level-2: #ffe0b3;\n",
       "  --sklearn-color-unfitted-level-3: chocolate;\n",
       "  /* Definition of color scheme for fitted estimators */\n",
       "  --sklearn-color-fitted-level-0: #f0f8ff;\n",
       "  --sklearn-color-fitted-level-1: #d4ebff;\n",
       "  --sklearn-color-fitted-level-2: #b3dbfd;\n",
       "  --sklearn-color-fitted-level-3: cornflowerblue;\n",
       "\n",
       "  /* Specific color for light theme */\n",
       "  --sklearn-color-text-on-default-background: var(--sg-text-color, var(--theme-code-foreground, var(--jp-content-font-color1, black)));\n",
       "  --sklearn-color-background: var(--sg-background-color, var(--theme-background, var(--jp-layout-color0, white)));\n",
       "  --sklearn-color-border-box: var(--sg-text-color, var(--theme-code-foreground, var(--jp-content-font-color1, black)));\n",
       "  --sklearn-color-icon: #696969;\n",
       "\n",
       "  @media (prefers-color-scheme: dark) {\n",
       "    /* Redefinition of color scheme for dark theme */\n",
       "    --sklearn-color-text-on-default-background: var(--sg-text-color, var(--theme-code-foreground, var(--jp-content-font-color1, white)));\n",
       "    --sklearn-color-background: var(--sg-background-color, var(--theme-background, var(--jp-layout-color0, #111)));\n",
       "    --sklearn-color-border-box: var(--sg-text-color, var(--theme-code-foreground, var(--jp-content-font-color1, white)));\n",
       "    --sklearn-color-icon: #878787;\n",
       "  }\n",
       "}\n",
       "\n",
       "#sk-container-id-1 {\n",
       "  color: var(--sklearn-color-text);\n",
       "}\n",
       "\n",
       "#sk-container-id-1 pre {\n",
       "  padding: 0;\n",
       "}\n",
       "\n",
       "#sk-container-id-1 input.sk-hidden--visually {\n",
       "  border: 0;\n",
       "  clip: rect(1px 1px 1px 1px);\n",
       "  clip: rect(1px, 1px, 1px, 1px);\n",
       "  height: 1px;\n",
       "  margin: -1px;\n",
       "  overflow: hidden;\n",
       "  padding: 0;\n",
       "  position: absolute;\n",
       "  width: 1px;\n",
       "}\n",
       "\n",
       "#sk-container-id-1 div.sk-dashed-wrapped {\n",
       "  border: 1px dashed var(--sklearn-color-line);\n",
       "  margin: 0 0.4em 0.5em 0.4em;\n",
       "  box-sizing: border-box;\n",
       "  padding-bottom: 0.4em;\n",
       "  background-color: var(--sklearn-color-background);\n",
       "}\n",
       "\n",
       "#sk-container-id-1 div.sk-container {\n",
       "  /* jupyter's `normalize.less` sets `[hidden] { display: none; }`\n",
       "     but bootstrap.min.css set `[hidden] { display: none !important; }`\n",
       "     so we also need the `!important` here to be able to override the\n",
       "     default hidden behavior on the sphinx rendered scikit-learn.org.\n",
       "     See: https://github.com/scikit-learn/scikit-learn/issues/21755 */\n",
       "  display: inline-block !important;\n",
       "  position: relative;\n",
       "}\n",
       "\n",
       "#sk-container-id-1 div.sk-text-repr-fallback {\n",
       "  display: none;\n",
       "}\n",
       "\n",
       "div.sk-parallel-item,\n",
       "div.sk-serial,\n",
       "div.sk-item {\n",
       "  /* draw centered vertical line to link estimators */\n",
       "  background-image: linear-gradient(var(--sklearn-color-text-on-default-background), var(--sklearn-color-text-on-default-background));\n",
       "  background-size: 2px 100%;\n",
       "  background-repeat: no-repeat;\n",
       "  background-position: center center;\n",
       "}\n",
       "\n",
       "/* Parallel-specific style estimator block */\n",
       "\n",
       "#sk-container-id-1 div.sk-parallel-item::after {\n",
       "  content: \"\";\n",
       "  width: 100%;\n",
       "  border-bottom: 2px solid var(--sklearn-color-text-on-default-background);\n",
       "  flex-grow: 1;\n",
       "}\n",
       "\n",
       "#sk-container-id-1 div.sk-parallel {\n",
       "  display: flex;\n",
       "  align-items: stretch;\n",
       "  justify-content: center;\n",
       "  background-color: var(--sklearn-color-background);\n",
       "  position: relative;\n",
       "}\n",
       "\n",
       "#sk-container-id-1 div.sk-parallel-item {\n",
       "  display: flex;\n",
       "  flex-direction: column;\n",
       "}\n",
       "\n",
       "#sk-container-id-1 div.sk-parallel-item:first-child::after {\n",
       "  align-self: flex-end;\n",
       "  width: 50%;\n",
       "}\n",
       "\n",
       "#sk-container-id-1 div.sk-parallel-item:last-child::after {\n",
       "  align-self: flex-start;\n",
       "  width: 50%;\n",
       "}\n",
       "\n",
       "#sk-container-id-1 div.sk-parallel-item:only-child::after {\n",
       "  width: 0;\n",
       "}\n",
       "\n",
       "/* Serial-specific style estimator block */\n",
       "\n",
       "#sk-container-id-1 div.sk-serial {\n",
       "  display: flex;\n",
       "  flex-direction: column;\n",
       "  align-items: center;\n",
       "  background-color: var(--sklearn-color-background);\n",
       "  padding-right: 1em;\n",
       "  padding-left: 1em;\n",
       "}\n",
       "\n",
       "\n",
       "/* Toggleable style: style used for estimator/Pipeline/ColumnTransformer box that is\n",
       "clickable and can be expanded/collapsed.\n",
       "- Pipeline and ColumnTransformer use this feature and define the default style\n",
       "- Estimators will overwrite some part of the style using the `sk-estimator` class\n",
       "*/\n",
       "\n",
       "/* Pipeline and ColumnTransformer style (default) */\n",
       "\n",
       "#sk-container-id-1 div.sk-toggleable {\n",
       "  /* Default theme specific background. It is overwritten whether we have a\n",
       "  specific estimator or a Pipeline/ColumnTransformer */\n",
       "  background-color: var(--sklearn-color-background);\n",
       "}\n",
       "\n",
       "/* Toggleable label */\n",
       "#sk-container-id-1 label.sk-toggleable__label {\n",
       "  cursor: pointer;\n",
       "  display: flex;\n",
       "  width: 100%;\n",
       "  margin-bottom: 0;\n",
       "  padding: 0.5em;\n",
       "  box-sizing: border-box;\n",
       "  text-align: center;\n",
       "  align-items: start;\n",
       "  justify-content: space-between;\n",
       "  gap: 0.5em;\n",
       "}\n",
       "\n",
       "#sk-container-id-1 label.sk-toggleable__label .caption {\n",
       "  font-size: 0.6rem;\n",
       "  font-weight: lighter;\n",
       "  color: var(--sklearn-color-text-muted);\n",
       "}\n",
       "\n",
       "#sk-container-id-1 label.sk-toggleable__label-arrow:before {\n",
       "  /* Arrow on the left of the label */\n",
       "  content: \"▸\";\n",
       "  float: left;\n",
       "  margin-right: 0.25em;\n",
       "  color: var(--sklearn-color-icon);\n",
       "}\n",
       "\n",
       "#sk-container-id-1 label.sk-toggleable__label-arrow:hover:before {\n",
       "  color: var(--sklearn-color-text);\n",
       "}\n",
       "\n",
       "/* Toggleable content - dropdown */\n",
       "\n",
       "#sk-container-id-1 div.sk-toggleable__content {\n",
       "  max-height: 0;\n",
       "  max-width: 0;\n",
       "  overflow: hidden;\n",
       "  text-align: left;\n",
       "  /* unfitted */\n",
       "  background-color: var(--sklearn-color-unfitted-level-0);\n",
       "}\n",
       "\n",
       "#sk-container-id-1 div.sk-toggleable__content.fitted {\n",
       "  /* fitted */\n",
       "  background-color: var(--sklearn-color-fitted-level-0);\n",
       "}\n",
       "\n",
       "#sk-container-id-1 div.sk-toggleable__content pre {\n",
       "  margin: 0.2em;\n",
       "  border-radius: 0.25em;\n",
       "  color: var(--sklearn-color-text);\n",
       "  /* unfitted */\n",
       "  background-color: var(--sklearn-color-unfitted-level-0);\n",
       "}\n",
       "\n",
       "#sk-container-id-1 div.sk-toggleable__content.fitted pre {\n",
       "  /* unfitted */\n",
       "  background-color: var(--sklearn-color-fitted-level-0);\n",
       "}\n",
       "\n",
       "#sk-container-id-1 input.sk-toggleable__control:checked~div.sk-toggleable__content {\n",
       "  /* Expand drop-down */\n",
       "  max-height: 200px;\n",
       "  max-width: 100%;\n",
       "  overflow: auto;\n",
       "}\n",
       "\n",
       "#sk-container-id-1 input.sk-toggleable__control:checked~label.sk-toggleable__label-arrow:before {\n",
       "  content: \"▾\";\n",
       "}\n",
       "\n",
       "/* Pipeline/ColumnTransformer-specific style */\n",
       "\n",
       "#sk-container-id-1 div.sk-label input.sk-toggleable__control:checked~label.sk-toggleable__label {\n",
       "  color: var(--sklearn-color-text);\n",
       "  background-color: var(--sklearn-color-unfitted-level-2);\n",
       "}\n",
       "\n",
       "#sk-container-id-1 div.sk-label.fitted input.sk-toggleable__control:checked~label.sk-toggleable__label {\n",
       "  background-color: var(--sklearn-color-fitted-level-2);\n",
       "}\n",
       "\n",
       "/* Estimator-specific style */\n",
       "\n",
       "/* Colorize estimator box */\n",
       "#sk-container-id-1 div.sk-estimator input.sk-toggleable__control:checked~label.sk-toggleable__label {\n",
       "  /* unfitted */\n",
       "  background-color: var(--sklearn-color-unfitted-level-2);\n",
       "}\n",
       "\n",
       "#sk-container-id-1 div.sk-estimator.fitted input.sk-toggleable__control:checked~label.sk-toggleable__label {\n",
       "  /* fitted */\n",
       "  background-color: var(--sklearn-color-fitted-level-2);\n",
       "}\n",
       "\n",
       "#sk-container-id-1 div.sk-label label.sk-toggleable__label,\n",
       "#sk-container-id-1 div.sk-label label {\n",
       "  /* The background is the default theme color */\n",
       "  color: var(--sklearn-color-text-on-default-background);\n",
       "}\n",
       "\n",
       "/* On hover, darken the color of the background */\n",
       "#sk-container-id-1 div.sk-label:hover label.sk-toggleable__label {\n",
       "  color: var(--sklearn-color-text);\n",
       "  background-color: var(--sklearn-color-unfitted-level-2);\n",
       "}\n",
       "\n",
       "/* Label box, darken color on hover, fitted */\n",
       "#sk-container-id-1 div.sk-label.fitted:hover label.sk-toggleable__label.fitted {\n",
       "  color: var(--sklearn-color-text);\n",
       "  background-color: var(--sklearn-color-fitted-level-2);\n",
       "}\n",
       "\n",
       "/* Estimator label */\n",
       "\n",
       "#sk-container-id-1 div.sk-label label {\n",
       "  font-family: monospace;\n",
       "  font-weight: bold;\n",
       "  display: inline-block;\n",
       "  line-height: 1.2em;\n",
       "}\n",
       "\n",
       "#sk-container-id-1 div.sk-label-container {\n",
       "  text-align: center;\n",
       "}\n",
       "\n",
       "/* Estimator-specific */\n",
       "#sk-container-id-1 div.sk-estimator {\n",
       "  font-family: monospace;\n",
       "  border: 1px dotted var(--sklearn-color-border-box);\n",
       "  border-radius: 0.25em;\n",
       "  box-sizing: border-box;\n",
       "  margin-bottom: 0.5em;\n",
       "  /* unfitted */\n",
       "  background-color: var(--sklearn-color-unfitted-level-0);\n",
       "}\n",
       "\n",
       "#sk-container-id-1 div.sk-estimator.fitted {\n",
       "  /* fitted */\n",
       "  background-color: var(--sklearn-color-fitted-level-0);\n",
       "}\n",
       "\n",
       "/* on hover */\n",
       "#sk-container-id-1 div.sk-estimator:hover {\n",
       "  /* unfitted */\n",
       "  background-color: var(--sklearn-color-unfitted-level-2);\n",
       "}\n",
       "\n",
       "#sk-container-id-1 div.sk-estimator.fitted:hover {\n",
       "  /* fitted */\n",
       "  background-color: var(--sklearn-color-fitted-level-2);\n",
       "}\n",
       "\n",
       "/* Specification for estimator info (e.g. \"i\" and \"?\") */\n",
       "\n",
       "/* Common style for \"i\" and \"?\" */\n",
       "\n",
       ".sk-estimator-doc-link,\n",
       "a:link.sk-estimator-doc-link,\n",
       "a:visited.sk-estimator-doc-link {\n",
       "  float: right;\n",
       "  font-size: smaller;\n",
       "  line-height: 1em;\n",
       "  font-family: monospace;\n",
       "  background-color: var(--sklearn-color-background);\n",
       "  border-radius: 1em;\n",
       "  height: 1em;\n",
       "  width: 1em;\n",
       "  text-decoration: none !important;\n",
       "  margin-left: 0.5em;\n",
       "  text-align: center;\n",
       "  /* unfitted */\n",
       "  border: var(--sklearn-color-unfitted-level-1) 1pt solid;\n",
       "  color: var(--sklearn-color-unfitted-level-1);\n",
       "}\n",
       "\n",
       ".sk-estimator-doc-link.fitted,\n",
       "a:link.sk-estimator-doc-link.fitted,\n",
       "a:visited.sk-estimator-doc-link.fitted {\n",
       "  /* fitted */\n",
       "  border: var(--sklearn-color-fitted-level-1) 1pt solid;\n",
       "  color: var(--sklearn-color-fitted-level-1);\n",
       "}\n",
       "\n",
       "/* On hover */\n",
       "div.sk-estimator:hover .sk-estimator-doc-link:hover,\n",
       ".sk-estimator-doc-link:hover,\n",
       "div.sk-label-container:hover .sk-estimator-doc-link:hover,\n",
       ".sk-estimator-doc-link:hover {\n",
       "  /* unfitted */\n",
       "  background-color: var(--sklearn-color-unfitted-level-3);\n",
       "  color: var(--sklearn-color-background);\n",
       "  text-decoration: none;\n",
       "}\n",
       "\n",
       "div.sk-estimator.fitted:hover .sk-estimator-doc-link.fitted:hover,\n",
       ".sk-estimator-doc-link.fitted:hover,\n",
       "div.sk-label-container:hover .sk-estimator-doc-link.fitted:hover,\n",
       ".sk-estimator-doc-link.fitted:hover {\n",
       "  /* fitted */\n",
       "  background-color: var(--sklearn-color-fitted-level-3);\n",
       "  color: var(--sklearn-color-background);\n",
       "  text-decoration: none;\n",
       "}\n",
       "\n",
       "/* Span, style for the box shown on hovering the info icon */\n",
       ".sk-estimator-doc-link span {\n",
       "  display: none;\n",
       "  z-index: 9999;\n",
       "  position: relative;\n",
       "  font-weight: normal;\n",
       "  right: .2ex;\n",
       "  padding: .5ex;\n",
       "  margin: .5ex;\n",
       "  width: min-content;\n",
       "  min-width: 20ex;\n",
       "  max-width: 50ex;\n",
       "  color: var(--sklearn-color-text);\n",
       "  box-shadow: 2pt 2pt 4pt #999;\n",
       "  /* unfitted */\n",
       "  background: var(--sklearn-color-unfitted-level-0);\n",
       "  border: .5pt solid var(--sklearn-color-unfitted-level-3);\n",
       "}\n",
       "\n",
       ".sk-estimator-doc-link.fitted span {\n",
       "  /* fitted */\n",
       "  background: var(--sklearn-color-fitted-level-0);\n",
       "  border: var(--sklearn-color-fitted-level-3);\n",
       "}\n",
       "\n",
       ".sk-estimator-doc-link:hover span {\n",
       "  display: block;\n",
       "}\n",
       "\n",
       "/* \"?\"-specific style due to the `<a>` HTML tag */\n",
       "\n",
       "#sk-container-id-1 a.estimator_doc_link {\n",
       "  float: right;\n",
       "  font-size: 1rem;\n",
       "  line-height: 1em;\n",
       "  font-family: monospace;\n",
       "  background-color: var(--sklearn-color-background);\n",
       "  border-radius: 1rem;\n",
       "  height: 1rem;\n",
       "  width: 1rem;\n",
       "  text-decoration: none;\n",
       "  /* unfitted */\n",
       "  color: var(--sklearn-color-unfitted-level-1);\n",
       "  border: var(--sklearn-color-unfitted-level-1) 1pt solid;\n",
       "}\n",
       "\n",
       "#sk-container-id-1 a.estimator_doc_link.fitted {\n",
       "  /* fitted */\n",
       "  border: var(--sklearn-color-fitted-level-1) 1pt solid;\n",
       "  color: var(--sklearn-color-fitted-level-1);\n",
       "}\n",
       "\n",
       "/* On hover */\n",
       "#sk-container-id-1 a.estimator_doc_link:hover {\n",
       "  /* unfitted */\n",
       "  background-color: var(--sklearn-color-unfitted-level-3);\n",
       "  color: var(--sklearn-color-background);\n",
       "  text-decoration: none;\n",
       "}\n",
       "\n",
       "#sk-container-id-1 a.estimator_doc_link.fitted:hover {\n",
       "  /* fitted */\n",
       "  background-color: var(--sklearn-color-fitted-level-3);\n",
       "}\n",
       "</style><div id=\"sk-container-id-1\" class=\"sk-top-container\"><div class=\"sk-text-repr-fallback\"><pre>VotingClassifier(estimators=[(&#x27;rf&#x27;,\n",
       "                              RandomForestClassifier(n_estimators=50,\n",
       "                                                     random_state=2)),\n",
       "                             (&#x27;nb&#x27;, MultinomialNB()),\n",
       "                             (&#x27;et&#x27;,\n",
       "                              ExtraTreesClassifier(n_estimators=50,\n",
       "                                                   random_state=2))],\n",
       "                 voting=&#x27;soft&#x27;)</pre><b>In a Jupyter environment, please rerun this cell to show the HTML representation or trust the notebook. <br />On GitHub, the HTML representation is unable to render, please try loading this page with nbviewer.org.</b></div><div class=\"sk-container\" hidden><div class=\"sk-item sk-dashed-wrapped\"><div class=\"sk-label-container\"><div class=\"sk-label fitted sk-toggleable\"><input class=\"sk-toggleable__control sk-hidden--visually\" id=\"sk-estimator-id-1\" type=\"checkbox\" ><label for=\"sk-estimator-id-1\" class=\"sk-toggleable__label fitted sk-toggleable__label-arrow\"><div><div>VotingClassifier</div></div><div><a class=\"sk-estimator-doc-link fitted\" rel=\"noreferrer\" target=\"_blank\" href=\"https://scikit-learn.org/1.6/modules/generated/sklearn.ensemble.VotingClassifier.html\">?<span>Documentation for VotingClassifier</span></a><span class=\"sk-estimator-doc-link fitted\">i<span>Fitted</span></span></div></label><div class=\"sk-toggleable__content fitted\"><pre>VotingClassifier(estimators=[(&#x27;rf&#x27;,\n",
       "                              RandomForestClassifier(n_estimators=50,\n",
       "                                                     random_state=2)),\n",
       "                             (&#x27;nb&#x27;, MultinomialNB()),\n",
       "                             (&#x27;et&#x27;,\n",
       "                              ExtraTreesClassifier(n_estimators=50,\n",
       "                                                   random_state=2))],\n",
       "                 voting=&#x27;soft&#x27;)</pre></div> </div></div><div class=\"sk-parallel\"><div class=\"sk-parallel-item\"><div class=\"sk-item\"><div class=\"sk-label-container\"><div class=\"sk-label fitted sk-toggleable\"><label>rf</label></div></div><div class=\"sk-serial\"><div class=\"sk-item\"><div class=\"sk-estimator fitted sk-toggleable\"><input class=\"sk-toggleable__control sk-hidden--visually\" id=\"sk-estimator-id-2\" type=\"checkbox\" ><label for=\"sk-estimator-id-2\" class=\"sk-toggleable__label fitted sk-toggleable__label-arrow\"><div><div>RandomForestClassifier</div></div><div><a class=\"sk-estimator-doc-link fitted\" rel=\"noreferrer\" target=\"_blank\" href=\"https://scikit-learn.org/1.6/modules/generated/sklearn.ensemble.RandomForestClassifier.html\">?<span>Documentation for RandomForestClassifier</span></a></div></label><div class=\"sk-toggleable__content fitted\"><pre>RandomForestClassifier(n_estimators=50, random_state=2)</pre></div> </div></div></div></div></div><div class=\"sk-parallel-item\"><div class=\"sk-item\"><div class=\"sk-label-container\"><div class=\"sk-label fitted sk-toggleable\"><label>nb</label></div></div><div class=\"sk-serial\"><div class=\"sk-item\"><div class=\"sk-estimator fitted sk-toggleable\"><input class=\"sk-toggleable__control sk-hidden--visually\" id=\"sk-estimator-id-3\" type=\"checkbox\" ><label for=\"sk-estimator-id-3\" class=\"sk-toggleable__label fitted sk-toggleable__label-arrow\"><div><div>MultinomialNB</div></div><div><a class=\"sk-estimator-doc-link fitted\" rel=\"noreferrer\" target=\"_blank\" href=\"https://scikit-learn.org/1.6/modules/generated/sklearn.naive_bayes.MultinomialNB.html\">?<span>Documentation for MultinomialNB</span></a></div></label><div class=\"sk-toggleable__content fitted\"><pre>MultinomialNB()</pre></div> </div></div></div></div></div><div class=\"sk-parallel-item\"><div class=\"sk-item\"><div class=\"sk-label-container\"><div class=\"sk-label fitted sk-toggleable\"><label>et</label></div></div><div class=\"sk-serial\"><div class=\"sk-item\"><div class=\"sk-estimator fitted sk-toggleable\"><input class=\"sk-toggleable__control sk-hidden--visually\" id=\"sk-estimator-id-4\" type=\"checkbox\" ><label for=\"sk-estimator-id-4\" class=\"sk-toggleable__label fitted sk-toggleable__label-arrow\"><div><div>ExtraTreesClassifier</div></div><div><a class=\"sk-estimator-doc-link fitted\" rel=\"noreferrer\" target=\"_blank\" href=\"https://scikit-learn.org/1.6/modules/generated/sklearn.ensemble.ExtraTreesClassifier.html\">?<span>Documentation for ExtraTreesClassifier</span></a></div></label><div class=\"sk-toggleable__content fitted\"><pre>ExtraTreesClassifier(n_estimators=50, random_state=2)</pre></div> </div></div></div></div></div></div></div></div></div>"
      ],
      "text/plain": [
       "VotingClassifier(estimators=[('rf',\n",
       "                              RandomForestClassifier(n_estimators=50,\n",
       "                                                     random_state=2)),\n",
       "                             ('nb', MultinomialNB()),\n",
       "                             ('et',\n",
       "                              ExtraTreesClassifier(n_estimators=50,\n",
       "                                                   random_state=2))],\n",
       "                 voting='soft')"
      ]
     },
     "execution_count": 104,
     "metadata": {},
     "output_type": "execute_result"
    }
   ],
   "source": [
    "#training the data\n",
    "voting.fit(X_train,y_train)"
   ]
  },
  {
   "cell_type": "code",
   "execution_count": 105,
   "id": "cded7e12",
   "metadata": {},
   "outputs": [
    {
     "name": "stdout",
     "output_type": "stream",
     "text": [
      "Accuracy 0.9661508704061895\n",
      "Precision 1.0\n"
     ]
    }
   ],
   "source": [
    "y_pred = voting.predict(X_test)\n",
    "print(\"Accuracy\",accuracy_score(y_test,y_pred))\n",
    "print(\"Precision\",precision_score(y_test,y_pred))"
   ]
  },
  {
   "cell_type": "code",
   "execution_count": 106,
   "id": "e555ef92",
   "metadata": {},
   "outputs": [],
   "source": [
    "#precision is still 1 but accuracy dropped down."
   ]
  },
  {
   "cell_type": "code",
   "execution_count": null,
   "id": "5e02d431",
   "metadata": {},
   "outputs": [],
   "source": [
    "#Now use STACKING\n",
    "# Stacking is an ensemble learning technique where multiple models (base learners) are trained separately, \n",
    "# and their predictions are used as input for a final model (meta learner) to improve overall accuracy.\n",
    "# Here, we use Random Forest (rf), Naive Bayes (nb), and Extra Trees (et) as base models, \n",
    "# with Extra Trees Classifier (ETC) as the final estimator for better generalization."
   ]
  },
  {
   "cell_type": "code",
   "execution_count": 107,
   "id": "a2dea307",
   "metadata": {},
   "outputs": [],
   "source": [
    "#Stacking of NB, RF and ETC\n",
    "estimators=[('rf', rfc), ('nb', mnb), ('et', etc)]\n",
    "\n",
    "#most weightage to ETC\n",
    "final_estimator=ExtraTreesClassifier()"
   ]
  },
  {
   "cell_type": "code",
   "execution_count": 108,
   "id": "ed9c5b65",
   "metadata": {},
   "outputs": [],
   "source": [
    "from sklearn.ensemble import StackingClassifier\n",
    "clf = StackingClassifier(estimators=estimators, final_estimator=final_estimator)"
   ]
  },
  {
   "cell_type": "code",
   "execution_count": null,
   "id": "cf82c7e7",
   "metadata": {},
   "outputs": [],
   "source": [
    "#training the dataset\n",
    "clf.fit(X_train,y_train)\n",
    "y_pred = clf.predict(X_test)\n",
    "\n",
    "#printing the scores\n",
    "print(\"Accuracy\",accuracy_score(y_test,y_pred))\n",
    "print(\"Precision\",precision_score(y_test,y_pred))"
   ]
  },
  {
   "cell_type": "code",
   "execution_count": 110,
   "id": "bd87901b",
   "metadata": {},
   "outputs": [],
   "source": [
    "#precision dropped so can't consider it."
   ]
  },
  {
   "cell_type": "code",
   "execution_count": 111,
   "id": "c897ef2c",
   "metadata": {},
   "outputs": [],
   "source": [
    "#finally, ETC is giving the best results, so we will be using the ETC classifier."
   ]
  },
  {
   "cell_type": "code",
   "execution_count": 112,
   "id": "74aa58ec",
   "metadata": {},
   "outputs": [],
   "source": [
    "#model is PREPARED.\n",
    "#now we have to host the website(using streamlit), for that pipeling needs to be done\n",
    "#the text which we will get, has to be transformed first, then vectorized and then apply the algorithm"
   ]
  },
  {
   "cell_type": "code",
   "execution_count": 116,
   "id": "75dd2f73",
   "metadata": {},
   "outputs": [],
   "source": [
    "#we will pickle 2 files\n",
    "import pickle\n",
    "\n",
    "pickle.dump(tf, open('vectorizer.pkl', 'wb'))\n",
    "pickle.dump(clf, open('model.pkl', 'wb'))\n"
   ]
  },
  {
   "cell_type": "code",
   "execution_count": null,
   "id": "ba83f737",
   "metadata": {},
   "outputs": [],
   "source": []
  }
 ],
 "metadata": {
  "colab": {
   "provenance": []
  },
  "kernelspec": {
   "display_name": "Python 3",
   "language": "python",
   "name": "python3"
  },
  "language_info": {
   "codemirror_mode": {
    "name": "ipython",
    "version": 3
   },
   "file_extension": ".py",
   "mimetype": "text/x-python",
   "name": "python",
   "nbconvert_exporter": "python",
   "pygments_lexer": "ipython3",
   "version": "3.11.2"
  }
 },
 "nbformat": 4,
 "nbformat_minor": 5
}
